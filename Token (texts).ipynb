{
 "cells": [
  {
   "cell_type": "code",
   "execution_count": 15,
   "id": "ecef4628",
   "metadata": {},
   "outputs": [],
   "source": [
    "import nltk"
   ]
  },
  {
   "cell_type": "code",
   "execution_count": 23,
   "id": "5918352c",
   "metadata": {},
   "outputs": [],
   "source": [
    "data = \"TThe data shows that the AI chatbot uses expressive act to offer a sincere apology as response to customers’ complaints, the commissive act to promise to make things right, the directive act to request for customers’ details and the assertive act to state or affirm the nature of their complaints. The study observes that while each chatbot tries to genuinely respond to customers’ needs like humans, they lack deep emotional intelligence like humans. For instance, in one of the data where a customer expressed anger and frustration in all his exchanges, the AI chatbot only pacified the emotions of the customer in his first exchange using the expressive, directive and commissive acts \""
   ]
  },
  {
   "cell_type": "code",
   "execution_count": 24,
   "id": "aca6898a",
   "metadata": {},
   "outputs": [],
   "source": [
    "words = nltk.word_tokenize(data)"
   ]
  },
  {
   "cell_type": "code",
   "execution_count": 25,
   "id": "f264c5a6",
   "metadata": {},
   "outputs": [],
   "source": [
    "tags = nltk.pos_tag(words)"
   ]
  },
  {
   "cell_type": "code",
   "execution_count": 26,
   "id": "e971d377",
   "metadata": {},
   "outputs": [],
   "source": [
    "nouns = [word for word, pos in tags if pos.startswith (\"NN\")]"
   ]
  },
  {
   "cell_type": "code",
   "execution_count": 27,
   "id": "c0ffadf2",
   "metadata": {},
   "outputs": [],
   "source": [
    "noun_count = len(nouns)"
   ]
  },
  {
   "cell_type": "code",
   "execution_count": 28,
   "id": "b1657bfc",
   "metadata": {},
   "outputs": [
    {
     "name": "stdout",
     "output_type": "stream",
     "text": [
      "There are 39 nouns in the data.\n"
     ]
    }
   ],
   "source": [
    "print(f\"There are {noun_count} nouns in the data.\")"
   ]
  },
  {
   "cell_type": "code",
   "execution_count": 38,
   "id": "9f536839",
   "metadata": {},
   "outputs": [],
   "source": [
    "import nltk"
   ]
  },
  {
   "cell_type": "code",
   "execution_count": 39,
   "id": "54833fe8",
   "metadata": {},
   "outputs": [],
   "source": [
    "data = \"The human-human conversations have demonstrated a higher level of adaptability, context recognition and emotional intelligence. AI-customer service interactions show that the chatbots recognized the context but struggled to adapt to the emotional expressions of the customers by providing patterned and formulaic responses, which perpetually resulted in dissatisfaction. The study has demonstrated that AI chatbots are facing challenges in genuinely imitating human-like conversations, especially in the context of complex emotions. While Gen AI has made substantial improvement in customer-service interactions, it needs more technological enhancement to truly understand and respond to human emotional, mental, and psychological needs.\""
   ]
  },
  {
   "cell_type": "code",
   "execution_count": 40,
   "id": "9b59abc6",
   "metadata": {},
   "outputs": [],
   "source": [
    "words = nltk.word_tokenize(data)"
   ]
  },
  {
   "cell_type": "code",
   "execution_count": 41,
   "id": "2afa0dcf",
   "metadata": {},
   "outputs": [],
   "source": [
    "tags = nltk.pos_tag(words)"
   ]
  },
  {
   "cell_type": "code",
   "execution_count": 42,
   "id": "c3bec1ba",
   "metadata": {},
   "outputs": [],
   "source": [
    "nouns = [word for word, pos in tags if pos.startswith('NN')]"
   ]
  },
  {
   "cell_type": "code",
   "execution_count": 43,
   "id": "ea35b659",
   "metadata": {
    "scrolled": true
   },
   "outputs": [
    {
     "name": "stdout",
     "output_type": "stream",
     "text": [
      "The nouns in the data are: ['conversations', 'level', 'adaptability', 'recognition', 'intelligence', 'AI-customer', 'service', 'interactions', 'chatbots', 'context', 'expressions', 'customers', 'responses', 'dissatisfaction', 'study', 'AI', 'chatbots', 'challenges', 'conversations', 'context', 'emotions', 'Gen', 'AI', 'improvement', 'interactions', 'enhancement', 'respond', 'needs']\n"
     ]
    }
   ],
   "source": [
    "print(f'The nouns in the data are: {nouns}')"
   ]
  },
  {
   "cell_type": "code",
   "execution_count": 44,
   "id": "acb6e0b3",
   "metadata": {},
   "outputs": [],
   "source": [
    "import nltk\n",
    "from nltk import word_tokenize, pos_tag"
   ]
  },
  {
   "cell_type": "code",
   "execution_count": 46,
   "id": "eab3c5e5",
   "metadata": {},
   "outputs": [],
   "source": [
    "text = \"\"\"The human-human conversations have demonstrated a higher level of adaptability, context recognition and emotional intelligence. AI-customer service interactions show that the chatbots recognized the context but struggled to adapt to the emotional expressions of the customers by providing patterned and formulaic responses, which perpetually resulted in dissatisfaction. The study has demonstrated that AI chatbots are facing challenges in genuinely imitating human-like conversations, especially in the context of complex emotions. While Gen AI has made substantial improvement in customer-service interactions, it needs more technological enhancement to truly understand and respond to human emotional, mental, and psychological needs.\"\"\""
   ]
  },
  {
   "cell_type": "code",
   "execution_count": 47,
   "id": "5a83e484",
   "metadata": {},
   "outputs": [],
   "source": [
    "words = word_tokenize(text)"
   ]
  },
  {
   "cell_type": "code",
   "execution_count": 48,
   "id": "34cd8354",
   "metadata": {},
   "outputs": [],
   "source": [
    "pos_tags = pos_tag(words)"
   ]
  },
  {
   "cell_type": "code",
   "execution_count": 49,
   "id": "01eaa78c",
   "metadata": {},
   "outputs": [],
   "source": [
    "verbs = [word for word, pos in pos_tags if pos.startswith('V')]"
   ]
  },
  {
   "cell_type": "code",
   "execution_count": 55,
   "id": "d06a6560",
   "metadata": {
    "scrolled": true
   },
   "outputs": [
    {
     "name": "stdout",
     "output_type": "stream",
     "text": [
      "The verbs in the data are: ['have', 'demonstrated', 'show', 'recognized', 'struggled', 'adapt', 'providing', 'patterned', 'resulted', 'has', 'demonstrated', 'are', 'facing', 'imitating', 'has', 'made', 'needs', 'truly']\n"
     ]
    }
   ],
   "source": [
    "print(f'The verbs in the data are: {verbs}')"
   ]
  },
  {
   "cell_type": "code",
   "execution_count": null,
   "id": "c9b1aee2",
   "metadata": {},
   "outputs": [],
   "source": []
  }
 ],
 "metadata": {
  "kernelspec": {
   "display_name": "Python 3 (ipykernel)",
   "language": "python",
   "name": "python3"
  },
  "language_info": {
   "codemirror_mode": {
    "name": "ipython",
    "version": 3
   },
   "file_extension": ".py",
   "mimetype": "text/x-python",
   "name": "python",
   "nbconvert_exporter": "python",
   "pygments_lexer": "ipython3",
   "version": "3.11.5"
  }
 },
 "nbformat": 4,
 "nbformat_minor": 5
}
