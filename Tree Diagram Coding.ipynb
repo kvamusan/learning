{
 "cells": [
  {
   "cell_type": "code",
   "execution_count": 1,
   "id": "fe39810f",
   "metadata": {},
   "outputs": [
    {
     "name": "stdout",
     "output_type": "stream",
     "text": [
      "     S                                   \n",
      "  ___|__________                          \n",
      " |              VP                       \n",
      " |    __________|______                   \n",
      " |   |                 NP                \n",
      " |   |     ____________|___               \n",
      " |   |    |     |          PP            \n",
      " |   |    |     |       ___|___           \n",
      " |   |    |     |      |       NP        \n",
      " |   |    |     |      |    ___|_____     \n",
      " NP  V   Det    N      P  Det        N   \n",
      " |   |    |     |      |   |         |    \n",
      " I  shot  an elephant  in  my     pajamas\n",
      "\n",
      "     S                                       \n",
      "  ___|______________                          \n",
      " |                  VP                       \n",
      " |         _________|__________               \n",
      " |        VP                   PP            \n",
      " |    ____|___              ___|___           \n",
      " |   |        NP           |       NP        \n",
      " |   |     ___|_____       |    ___|_____     \n",
      " NP  V   Det        N      P  Det        N   \n",
      " |   |    |         |      |   |         |    \n",
      " I  shot  an     elephant  in  my     pajamas\n",
      "\n"
     ]
    },
    {
     "ename": "RecursionError",
     "evalue": "maximum recursion depth exceeded",
     "output_type": "error",
     "traceback": [
      "\u001b[1;31m---------------------------------------------------------------------------\u001b[0m",
      "\u001b[1;31mRecursionError\u001b[0m                            Traceback (most recent call last)",
      "Cell \u001b[1;32mIn[1], line 24\u001b[0m\n\u001b[0;32m     21\u001b[0m parser \u001b[38;5;241m=\u001b[39m RecursiveDescentParser(grammar)\n\u001b[0;32m     23\u001b[0m \u001b[38;5;66;03m# Parse the sentence and print the parse trees\u001b[39;00m\n\u001b[1;32m---> 24\u001b[0m \u001b[38;5;28;01mfor\u001b[39;00m tree \u001b[38;5;129;01min\u001b[39;00m parser\u001b[38;5;241m.\u001b[39mparse(sentence):\n\u001b[0;32m     25\u001b[0m     tree\u001b[38;5;241m.\u001b[39mpretty_print()\n",
      "File \u001b[1;32m~\\anaconda3\\Lib\\site-packages\\nltk\\parse\\recursivedescent.py:126\u001b[0m, in \u001b[0;36mRecursiveDescentParser._parse\u001b[1;34m(self, remaining_text, tree, frontier)\u001b[0m\n\u001b[0;32m    124\u001b[0m \u001b[38;5;66;03m# If the next element on the frontier is a tree, expand it.\u001b[39;00m\n\u001b[0;32m    125\u001b[0m \u001b[38;5;28;01melif\u001b[39;00m \u001b[38;5;28misinstance\u001b[39m(tree[frontier[\u001b[38;5;241m0\u001b[39m]], Tree):\n\u001b[1;32m--> 126\u001b[0m     \u001b[38;5;28;01myield from\u001b[39;00m \u001b[38;5;28mself\u001b[39m\u001b[38;5;241m.\u001b[39m_expand(remaining_text, tree, frontier)\n\u001b[0;32m    128\u001b[0m \u001b[38;5;66;03m# If the next element on the frontier is a token, match it.\u001b[39;00m\n\u001b[0;32m    129\u001b[0m \u001b[38;5;28;01melse\u001b[39;00m:\n\u001b[0;32m    130\u001b[0m     \u001b[38;5;28;01myield from\u001b[39;00m \u001b[38;5;28mself\u001b[39m\u001b[38;5;241m.\u001b[39m_match(remaining_text, tree, frontier)\n",
      "File \u001b[1;32m~\\anaconda3\\Lib\\site-packages\\nltk\\parse\\recursivedescent.py:225\u001b[0m, in \u001b[0;36mRecursiveDescentParser._expand\u001b[1;34m(self, remaining_text, tree, frontier, production)\u001b[0m\n\u001b[0;32m    223\u001b[0m \u001b[38;5;28;01mif\u001b[39;00m \u001b[38;5;28mself\u001b[39m\u001b[38;5;241m.\u001b[39m_trace:\n\u001b[0;32m    224\u001b[0m     \u001b[38;5;28mself\u001b[39m\u001b[38;5;241m.\u001b[39m_trace_expand(newtree, new_frontier, production)\n\u001b[1;32m--> 225\u001b[0m \u001b[38;5;28;01myield from\u001b[39;00m \u001b[38;5;28mself\u001b[39m\u001b[38;5;241m.\u001b[39m_parse(\n\u001b[0;32m    226\u001b[0m     remaining_text, newtree, new_frontier \u001b[38;5;241m+\u001b[39m frontier[\u001b[38;5;241m1\u001b[39m:]\n\u001b[0;32m    227\u001b[0m )\n",
      "File \u001b[1;32m~\\anaconda3\\Lib\\site-packages\\nltk\\parse\\recursivedescent.py:126\u001b[0m, in \u001b[0;36mRecursiveDescentParser._parse\u001b[1;34m(self, remaining_text, tree, frontier)\u001b[0m\n\u001b[0;32m    124\u001b[0m \u001b[38;5;66;03m# If the next element on the frontier is a tree, expand it.\u001b[39;00m\n\u001b[0;32m    125\u001b[0m \u001b[38;5;28;01melif\u001b[39;00m \u001b[38;5;28misinstance\u001b[39m(tree[frontier[\u001b[38;5;241m0\u001b[39m]], Tree):\n\u001b[1;32m--> 126\u001b[0m     \u001b[38;5;28;01myield from\u001b[39;00m \u001b[38;5;28mself\u001b[39m\u001b[38;5;241m.\u001b[39m_expand(remaining_text, tree, frontier)\n\u001b[0;32m    128\u001b[0m \u001b[38;5;66;03m# If the next element on the frontier is a token, match it.\u001b[39;00m\n\u001b[0;32m    129\u001b[0m \u001b[38;5;28;01melse\u001b[39;00m:\n\u001b[0;32m    130\u001b[0m     \u001b[38;5;28;01myield from\u001b[39;00m \u001b[38;5;28mself\u001b[39m\u001b[38;5;241m.\u001b[39m_match(remaining_text, tree, frontier)\n",
      "File \u001b[1;32m~\\anaconda3\\Lib\\site-packages\\nltk\\parse\\recursivedescent.py:225\u001b[0m, in \u001b[0;36mRecursiveDescentParser._expand\u001b[1;34m(self, remaining_text, tree, frontier, production)\u001b[0m\n\u001b[0;32m    223\u001b[0m \u001b[38;5;28;01mif\u001b[39;00m \u001b[38;5;28mself\u001b[39m\u001b[38;5;241m.\u001b[39m_trace:\n\u001b[0;32m    224\u001b[0m     \u001b[38;5;28mself\u001b[39m\u001b[38;5;241m.\u001b[39m_trace_expand(newtree, new_frontier, production)\n\u001b[1;32m--> 225\u001b[0m \u001b[38;5;28;01myield from\u001b[39;00m \u001b[38;5;28mself\u001b[39m\u001b[38;5;241m.\u001b[39m_parse(\n\u001b[0;32m    226\u001b[0m     remaining_text, newtree, new_frontier \u001b[38;5;241m+\u001b[39m frontier[\u001b[38;5;241m1\u001b[39m:]\n\u001b[0;32m    227\u001b[0m )\n",
      "File \u001b[1;32m~\\anaconda3\\Lib\\site-packages\\nltk\\parse\\recursivedescent.py:130\u001b[0m, in \u001b[0;36mRecursiveDescentParser._parse\u001b[1;34m(self, remaining_text, tree, frontier)\u001b[0m\n\u001b[0;32m    126\u001b[0m     \u001b[38;5;28;01myield from\u001b[39;00m \u001b[38;5;28mself\u001b[39m\u001b[38;5;241m.\u001b[39m_expand(remaining_text, tree, frontier)\n\u001b[0;32m    128\u001b[0m \u001b[38;5;66;03m# If the next element on the frontier is a token, match it.\u001b[39;00m\n\u001b[0;32m    129\u001b[0m \u001b[38;5;28;01melse\u001b[39;00m:\n\u001b[1;32m--> 130\u001b[0m     \u001b[38;5;28;01myield from\u001b[39;00m \u001b[38;5;28mself\u001b[39m\u001b[38;5;241m.\u001b[39m_match(remaining_text, tree, frontier)\n",
      "File \u001b[1;32m~\\anaconda3\\Lib\\site-packages\\nltk\\parse\\recursivedescent.py:168\u001b[0m, in \u001b[0;36mRecursiveDescentParser._match\u001b[1;34m(self, rtext, tree, frontier)\u001b[0m\n\u001b[0;32m    166\u001b[0m     \u001b[38;5;28;01mif\u001b[39;00m \u001b[38;5;28mself\u001b[39m\u001b[38;5;241m.\u001b[39m_trace:\n\u001b[0;32m    167\u001b[0m         \u001b[38;5;28mself\u001b[39m\u001b[38;5;241m.\u001b[39m_trace_match(newtree, frontier[\u001b[38;5;241m1\u001b[39m:], rtext[\u001b[38;5;241m0\u001b[39m])\n\u001b[1;32m--> 168\u001b[0m     \u001b[38;5;28;01myield from\u001b[39;00m \u001b[38;5;28mself\u001b[39m\u001b[38;5;241m.\u001b[39m_parse(rtext[\u001b[38;5;241m1\u001b[39m:], newtree, frontier[\u001b[38;5;241m1\u001b[39m:])\n\u001b[0;32m    169\u001b[0m \u001b[38;5;28;01melse\u001b[39;00m:\n\u001b[0;32m    170\u001b[0m     \u001b[38;5;66;03m# If it's a non-matching terminal, fail.\u001b[39;00m\n\u001b[0;32m    171\u001b[0m     \u001b[38;5;28;01mif\u001b[39;00m \u001b[38;5;28mself\u001b[39m\u001b[38;5;241m.\u001b[39m_trace:\n",
      "    \u001b[1;31m[... skipping similar frames: RecursiveDescentParser._expand at line 225 (731 times), RecursiveDescentParser._parse at line 126 (731 times)]\u001b[0m\n",
      "File \u001b[1;32m~\\anaconda3\\Lib\\site-packages\\nltk\\parse\\recursivedescent.py:130\u001b[0m, in \u001b[0;36mRecursiveDescentParser._parse\u001b[1;34m(self, remaining_text, tree, frontier)\u001b[0m\n\u001b[0;32m    126\u001b[0m     \u001b[38;5;28;01myield from\u001b[39;00m \u001b[38;5;28mself\u001b[39m\u001b[38;5;241m.\u001b[39m_expand(remaining_text, tree, frontier)\n\u001b[0;32m    128\u001b[0m \u001b[38;5;66;03m# If the next element on the frontier is a token, match it.\u001b[39;00m\n\u001b[0;32m    129\u001b[0m \u001b[38;5;28;01melse\u001b[39;00m:\n\u001b[1;32m--> 130\u001b[0m     \u001b[38;5;28;01myield from\u001b[39;00m \u001b[38;5;28mself\u001b[39m\u001b[38;5;241m.\u001b[39m_match(remaining_text, tree, frontier)\n",
      "File \u001b[1;32m~\\anaconda3\\Lib\\site-packages\\nltk\\parse\\recursivedescent.py:168\u001b[0m, in \u001b[0;36mRecursiveDescentParser._match\u001b[1;34m(self, rtext, tree, frontier)\u001b[0m\n\u001b[0;32m    166\u001b[0m     \u001b[38;5;28;01mif\u001b[39;00m \u001b[38;5;28mself\u001b[39m\u001b[38;5;241m.\u001b[39m_trace:\n\u001b[0;32m    167\u001b[0m         \u001b[38;5;28mself\u001b[39m\u001b[38;5;241m.\u001b[39m_trace_match(newtree, frontier[\u001b[38;5;241m1\u001b[39m:], rtext[\u001b[38;5;241m0\u001b[39m])\n\u001b[1;32m--> 168\u001b[0m     \u001b[38;5;28;01myield from\u001b[39;00m \u001b[38;5;28mself\u001b[39m\u001b[38;5;241m.\u001b[39m_parse(rtext[\u001b[38;5;241m1\u001b[39m:], newtree, frontier[\u001b[38;5;241m1\u001b[39m:])\n\u001b[0;32m    169\u001b[0m \u001b[38;5;28;01melse\u001b[39;00m:\n\u001b[0;32m    170\u001b[0m     \u001b[38;5;66;03m# If it's a non-matching terminal, fail.\u001b[39;00m\n\u001b[0;32m    171\u001b[0m     \u001b[38;5;28;01mif\u001b[39;00m \u001b[38;5;28mself\u001b[39m\u001b[38;5;241m.\u001b[39m_trace:\n",
      "    \u001b[1;31m[... skipping similar frames: RecursiveDescentParser._expand at line 225 (8 times), RecursiveDescentParser._parse at line 126 (8 times), RecursiveDescentParser._match at line 168 (4 times), RecursiveDescentParser._parse at line 130 (4 times)]\u001b[0m\n",
      "File \u001b[1;32m~\\anaconda3\\Lib\\site-packages\\nltk\\parse\\recursivedescent.py:130\u001b[0m, in \u001b[0;36mRecursiveDescentParser._parse\u001b[1;34m(self, remaining_text, tree, frontier)\u001b[0m\n\u001b[0;32m    126\u001b[0m     \u001b[38;5;28;01myield from\u001b[39;00m \u001b[38;5;28mself\u001b[39m\u001b[38;5;241m.\u001b[39m_expand(remaining_text, tree, frontier)\n\u001b[0;32m    128\u001b[0m \u001b[38;5;66;03m# If the next element on the frontier is a token, match it.\u001b[39;00m\n\u001b[0;32m    129\u001b[0m \u001b[38;5;28;01melse\u001b[39;00m:\n\u001b[1;32m--> 130\u001b[0m     \u001b[38;5;28;01myield from\u001b[39;00m \u001b[38;5;28mself\u001b[39m\u001b[38;5;241m.\u001b[39m_match(remaining_text, tree, frontier)\n",
      "File \u001b[1;32m~\\anaconda3\\Lib\\site-packages\\nltk\\parse\\recursivedescent.py:168\u001b[0m, in \u001b[0;36mRecursiveDescentParser._match\u001b[1;34m(self, rtext, tree, frontier)\u001b[0m\n\u001b[0;32m    166\u001b[0m     \u001b[38;5;28;01mif\u001b[39;00m \u001b[38;5;28mself\u001b[39m\u001b[38;5;241m.\u001b[39m_trace:\n\u001b[0;32m    167\u001b[0m         \u001b[38;5;28mself\u001b[39m\u001b[38;5;241m.\u001b[39m_trace_match(newtree, frontier[\u001b[38;5;241m1\u001b[39m:], rtext[\u001b[38;5;241m0\u001b[39m])\n\u001b[1;32m--> 168\u001b[0m     \u001b[38;5;28;01myield from\u001b[39;00m \u001b[38;5;28mself\u001b[39m\u001b[38;5;241m.\u001b[39m_parse(rtext[\u001b[38;5;241m1\u001b[39m:], newtree, frontier[\u001b[38;5;241m1\u001b[39m:])\n\u001b[0;32m    169\u001b[0m \u001b[38;5;28;01melse\u001b[39;00m:\n\u001b[0;32m    170\u001b[0m     \u001b[38;5;66;03m# If it's a non-matching terminal, fail.\u001b[39;00m\n\u001b[0;32m    171\u001b[0m     \u001b[38;5;28;01mif\u001b[39;00m \u001b[38;5;28mself\u001b[39m\u001b[38;5;241m.\u001b[39m_trace:\n",
      "    \u001b[1;31m[... skipping similar frames: RecursiveDescentParser._parse at line 126 (1 times)]\u001b[0m\n",
      "File \u001b[1;32m~\\anaconda3\\Lib\\site-packages\\nltk\\parse\\recursivedescent.py:225\u001b[0m, in \u001b[0;36mRecursiveDescentParser._expand\u001b[1;34m(self, remaining_text, tree, frontier, production)\u001b[0m\n\u001b[0;32m    223\u001b[0m \u001b[38;5;28;01mif\u001b[39;00m \u001b[38;5;28mself\u001b[39m\u001b[38;5;241m.\u001b[39m_trace:\n\u001b[0;32m    224\u001b[0m     \u001b[38;5;28mself\u001b[39m\u001b[38;5;241m.\u001b[39m_trace_expand(newtree, new_frontier, production)\n\u001b[1;32m--> 225\u001b[0m \u001b[38;5;28;01myield from\u001b[39;00m \u001b[38;5;28mself\u001b[39m\u001b[38;5;241m.\u001b[39m_parse(\n\u001b[0;32m    226\u001b[0m     remaining_text, newtree, new_frontier \u001b[38;5;241m+\u001b[39m frontier[\u001b[38;5;241m1\u001b[39m:]\n\u001b[0;32m    227\u001b[0m )\n",
      "File \u001b[1;32m~\\anaconda3\\Lib\\site-packages\\nltk\\parse\\recursivedescent.py:126\u001b[0m, in \u001b[0;36mRecursiveDescentParser._parse\u001b[1;34m(self, remaining_text, tree, frontier)\u001b[0m\n\u001b[0;32m    124\u001b[0m \u001b[38;5;66;03m# If the next element on the frontier is a tree, expand it.\u001b[39;00m\n\u001b[0;32m    125\u001b[0m \u001b[38;5;28;01melif\u001b[39;00m \u001b[38;5;28misinstance\u001b[39m(tree[frontier[\u001b[38;5;241m0\u001b[39m]], Tree):\n\u001b[1;32m--> 126\u001b[0m     \u001b[38;5;28;01myield from\u001b[39;00m \u001b[38;5;28mself\u001b[39m\u001b[38;5;241m.\u001b[39m_expand(remaining_text, tree, frontier)\n\u001b[0;32m    128\u001b[0m \u001b[38;5;66;03m# If the next element on the frontier is a token, match it.\u001b[39;00m\n\u001b[0;32m    129\u001b[0m \u001b[38;5;28;01melse\u001b[39;00m:\n\u001b[0;32m    130\u001b[0m     \u001b[38;5;28;01myield from\u001b[39;00m \u001b[38;5;28mself\u001b[39m\u001b[38;5;241m.\u001b[39m_match(remaining_text, tree, frontier)\n",
      "File \u001b[1;32m~\\anaconda3\\Lib\\site-packages\\nltk\\parse\\recursivedescent.py:218\u001b[0m, in \u001b[0;36mRecursiveDescentParser._expand\u001b[1;34m(self, remaining_text, tree, frontier, production)\u001b[0m\n\u001b[0;32m    216\u001b[0m     newtree \u001b[38;5;241m=\u001b[39m subtree\n\u001b[0;32m    217\u001b[0m \u001b[38;5;28;01melse\u001b[39;00m:\n\u001b[1;32m--> 218\u001b[0m     newtree \u001b[38;5;241m=\u001b[39m tree\u001b[38;5;241m.\u001b[39mcopy(deep\u001b[38;5;241m=\u001b[39m\u001b[38;5;28;01mTrue\u001b[39;00m)\n\u001b[0;32m    219\u001b[0m     newtree[frontier[\u001b[38;5;241m0\u001b[39m]] \u001b[38;5;241m=\u001b[39m subtree\n\u001b[0;32m    220\u001b[0m new_frontier \u001b[38;5;241m=\u001b[39m [\n\u001b[0;32m    221\u001b[0m     frontier[\u001b[38;5;241m0\u001b[39m] \u001b[38;5;241m+\u001b[39m (i,) \u001b[38;5;28;01mfor\u001b[39;00m i \u001b[38;5;129;01min\u001b[39;00m \u001b[38;5;28mrange\u001b[39m(\u001b[38;5;28mlen\u001b[39m(production\u001b[38;5;241m.\u001b[39mrhs()))\n\u001b[0;32m    222\u001b[0m ]\n",
      "File \u001b[1;32m~\\anaconda3\\Lib\\site-packages\\nltk\\tree\\tree.py:558\u001b[0m, in \u001b[0;36mTree.copy\u001b[1;34m(self, deep)\u001b[0m\n\u001b[0;32m    556\u001b[0m     \u001b[38;5;28;01mreturn\u001b[39;00m \u001b[38;5;28mtype\u001b[39m(\u001b[38;5;28mself\u001b[39m)(\u001b[38;5;28mself\u001b[39m\u001b[38;5;241m.\u001b[39m_label, \u001b[38;5;28mself\u001b[39m)\n\u001b[0;32m    557\u001b[0m \u001b[38;5;28;01melse\u001b[39;00m:\n\u001b[1;32m--> 558\u001b[0m     \u001b[38;5;28;01mreturn\u001b[39;00m \u001b[38;5;28mtype\u001b[39m(\u001b[38;5;28mself\u001b[39m)\u001b[38;5;241m.\u001b[39mconvert(\u001b[38;5;28mself\u001b[39m)\n",
      "File \u001b[1;32m~\\anaconda3\\Lib\\site-packages\\nltk\\tree\\tree.py:543\u001b[0m, in \u001b[0;36mTree.convert\u001b[1;34m(cls, tree)\u001b[0m\n\u001b[0;32m    534\u001b[0m \u001b[38;5;250m\u001b[39m\u001b[38;5;124;03m\"\"\"\u001b[39;00m\n\u001b[0;32m    535\u001b[0m \u001b[38;5;124;03mConvert a tree between different subtypes of Tree.  ``cls`` determines\u001b[39;00m\n\u001b[0;32m    536\u001b[0m \u001b[38;5;124;03mwhich class will be used to encode the new tree.\u001b[39;00m\n\u001b[1;32m   (...)\u001b[0m\n\u001b[0;32m    540\u001b[0m \u001b[38;5;124;03m:return: The new Tree.\u001b[39;00m\n\u001b[0;32m    541\u001b[0m \u001b[38;5;124;03m\"\"\"\u001b[39;00m\n\u001b[0;32m    542\u001b[0m \u001b[38;5;28;01mif\u001b[39;00m \u001b[38;5;28misinstance\u001b[39m(tree, Tree):\n\u001b[1;32m--> 543\u001b[0m     children \u001b[38;5;241m=\u001b[39m [\u001b[38;5;28mcls\u001b[39m\u001b[38;5;241m.\u001b[39mconvert(child) \u001b[38;5;28;01mfor\u001b[39;00m child \u001b[38;5;129;01min\u001b[39;00m tree]\n\u001b[0;32m    544\u001b[0m     \u001b[38;5;28;01mreturn\u001b[39;00m \u001b[38;5;28mcls\u001b[39m(tree\u001b[38;5;241m.\u001b[39m_label, children)\n\u001b[0;32m    545\u001b[0m \u001b[38;5;28;01melse\u001b[39;00m:\n",
      "File \u001b[1;32m~\\anaconda3\\Lib\\site-packages\\nltk\\tree\\tree.py:543\u001b[0m, in \u001b[0;36m<listcomp>\u001b[1;34m(.0)\u001b[0m\n\u001b[0;32m    534\u001b[0m \u001b[38;5;250m\u001b[39m\u001b[38;5;124;03m\"\"\"\u001b[39;00m\n\u001b[0;32m    535\u001b[0m \u001b[38;5;124;03mConvert a tree between different subtypes of Tree.  ``cls`` determines\u001b[39;00m\n\u001b[0;32m    536\u001b[0m \u001b[38;5;124;03mwhich class will be used to encode the new tree.\u001b[39;00m\n\u001b[1;32m   (...)\u001b[0m\n\u001b[0;32m    540\u001b[0m \u001b[38;5;124;03m:return: The new Tree.\u001b[39;00m\n\u001b[0;32m    541\u001b[0m \u001b[38;5;124;03m\"\"\"\u001b[39;00m\n\u001b[0;32m    542\u001b[0m \u001b[38;5;28;01mif\u001b[39;00m \u001b[38;5;28misinstance\u001b[39m(tree, Tree):\n\u001b[1;32m--> 543\u001b[0m     children \u001b[38;5;241m=\u001b[39m [\u001b[38;5;28mcls\u001b[39m\u001b[38;5;241m.\u001b[39mconvert(child) \u001b[38;5;28;01mfor\u001b[39;00m child \u001b[38;5;129;01min\u001b[39;00m tree]\n\u001b[0;32m    544\u001b[0m     \u001b[38;5;28;01mreturn\u001b[39;00m \u001b[38;5;28mcls\u001b[39m(tree\u001b[38;5;241m.\u001b[39m_label, children)\n\u001b[0;32m    545\u001b[0m \u001b[38;5;28;01melse\u001b[39;00m:\n",
      "File \u001b[1;32m~\\anaconda3\\Lib\\site-packages\\nltk\\tree\\tree.py:543\u001b[0m, in \u001b[0;36mTree.convert\u001b[1;34m(cls, tree)\u001b[0m\n\u001b[0;32m    534\u001b[0m \u001b[38;5;250m\u001b[39m\u001b[38;5;124;03m\"\"\"\u001b[39;00m\n\u001b[0;32m    535\u001b[0m \u001b[38;5;124;03mConvert a tree between different subtypes of Tree.  ``cls`` determines\u001b[39;00m\n\u001b[0;32m    536\u001b[0m \u001b[38;5;124;03mwhich class will be used to encode the new tree.\u001b[39;00m\n\u001b[1;32m   (...)\u001b[0m\n\u001b[0;32m    540\u001b[0m \u001b[38;5;124;03m:return: The new Tree.\u001b[39;00m\n\u001b[0;32m    541\u001b[0m \u001b[38;5;124;03m\"\"\"\u001b[39;00m\n\u001b[0;32m    542\u001b[0m \u001b[38;5;28;01mif\u001b[39;00m \u001b[38;5;28misinstance\u001b[39m(tree, Tree):\n\u001b[1;32m--> 543\u001b[0m     children \u001b[38;5;241m=\u001b[39m [\u001b[38;5;28mcls\u001b[39m\u001b[38;5;241m.\u001b[39mconvert(child) \u001b[38;5;28;01mfor\u001b[39;00m child \u001b[38;5;129;01min\u001b[39;00m tree]\n\u001b[0;32m    544\u001b[0m     \u001b[38;5;28;01mreturn\u001b[39;00m \u001b[38;5;28mcls\u001b[39m(tree\u001b[38;5;241m.\u001b[39m_label, children)\n\u001b[0;32m    545\u001b[0m \u001b[38;5;28;01melse\u001b[39;00m:\n",
      "File \u001b[1;32m~\\anaconda3\\Lib\\site-packages\\nltk\\tree\\tree.py:543\u001b[0m, in \u001b[0;36m<listcomp>\u001b[1;34m(.0)\u001b[0m\n\u001b[0;32m    534\u001b[0m \u001b[38;5;250m\u001b[39m\u001b[38;5;124;03m\"\"\"\u001b[39;00m\n\u001b[0;32m    535\u001b[0m \u001b[38;5;124;03mConvert a tree between different subtypes of Tree.  ``cls`` determines\u001b[39;00m\n\u001b[0;32m    536\u001b[0m \u001b[38;5;124;03mwhich class will be used to encode the new tree.\u001b[39;00m\n\u001b[1;32m   (...)\u001b[0m\n\u001b[0;32m    540\u001b[0m \u001b[38;5;124;03m:return: The new Tree.\u001b[39;00m\n\u001b[0;32m    541\u001b[0m \u001b[38;5;124;03m\"\"\"\u001b[39;00m\n\u001b[0;32m    542\u001b[0m \u001b[38;5;28;01mif\u001b[39;00m \u001b[38;5;28misinstance\u001b[39m(tree, Tree):\n\u001b[1;32m--> 543\u001b[0m     children \u001b[38;5;241m=\u001b[39m [\u001b[38;5;28mcls\u001b[39m\u001b[38;5;241m.\u001b[39mconvert(child) \u001b[38;5;28;01mfor\u001b[39;00m child \u001b[38;5;129;01min\u001b[39;00m tree]\n\u001b[0;32m    544\u001b[0m     \u001b[38;5;28;01mreturn\u001b[39;00m \u001b[38;5;28mcls\u001b[39m(tree\u001b[38;5;241m.\u001b[39m_label, children)\n\u001b[0;32m    545\u001b[0m \u001b[38;5;28;01melse\u001b[39;00m:\n",
      "    \u001b[1;31m[... skipping similar frames: <listcomp> at line 543 (732 times), Tree.convert at line 543 (732 times)]\u001b[0m\n",
      "File \u001b[1;32m~\\anaconda3\\Lib\\site-packages\\nltk\\tree\\tree.py:543\u001b[0m, in \u001b[0;36mTree.convert\u001b[1;34m(cls, tree)\u001b[0m\n\u001b[0;32m    534\u001b[0m \u001b[38;5;250m\u001b[39m\u001b[38;5;124;03m\"\"\"\u001b[39;00m\n\u001b[0;32m    535\u001b[0m \u001b[38;5;124;03mConvert a tree between different subtypes of Tree.  ``cls`` determines\u001b[39;00m\n\u001b[0;32m    536\u001b[0m \u001b[38;5;124;03mwhich class will be used to encode the new tree.\u001b[39;00m\n\u001b[1;32m   (...)\u001b[0m\n\u001b[0;32m    540\u001b[0m \u001b[38;5;124;03m:return: The new Tree.\u001b[39;00m\n\u001b[0;32m    541\u001b[0m \u001b[38;5;124;03m\"\"\"\u001b[39;00m\n\u001b[0;32m    542\u001b[0m \u001b[38;5;28;01mif\u001b[39;00m \u001b[38;5;28misinstance\u001b[39m(tree, Tree):\n\u001b[1;32m--> 543\u001b[0m     children \u001b[38;5;241m=\u001b[39m [\u001b[38;5;28mcls\u001b[39m\u001b[38;5;241m.\u001b[39mconvert(child) \u001b[38;5;28;01mfor\u001b[39;00m child \u001b[38;5;129;01min\u001b[39;00m tree]\n\u001b[0;32m    544\u001b[0m     \u001b[38;5;28;01mreturn\u001b[39;00m \u001b[38;5;28mcls\u001b[39m(tree\u001b[38;5;241m.\u001b[39m_label, children)\n\u001b[0;32m    545\u001b[0m \u001b[38;5;28;01melse\u001b[39;00m:\n",
      "File \u001b[1;32m~\\anaconda3\\Lib\\site-packages\\nltk\\tree\\tree.py:543\u001b[0m, in \u001b[0;36m<listcomp>\u001b[1;34m(.0)\u001b[0m\n\u001b[0;32m    534\u001b[0m \u001b[38;5;250m\u001b[39m\u001b[38;5;124;03m\"\"\"\u001b[39;00m\n\u001b[0;32m    535\u001b[0m \u001b[38;5;124;03mConvert a tree between different subtypes of Tree.  ``cls`` determines\u001b[39;00m\n\u001b[0;32m    536\u001b[0m \u001b[38;5;124;03mwhich class will be used to encode the new tree.\u001b[39;00m\n\u001b[1;32m   (...)\u001b[0m\n\u001b[0;32m    540\u001b[0m \u001b[38;5;124;03m:return: The new Tree.\u001b[39;00m\n\u001b[0;32m    541\u001b[0m \u001b[38;5;124;03m\"\"\"\u001b[39;00m\n\u001b[0;32m    542\u001b[0m \u001b[38;5;28;01mif\u001b[39;00m \u001b[38;5;28misinstance\u001b[39m(tree, Tree):\n\u001b[1;32m--> 543\u001b[0m     children \u001b[38;5;241m=\u001b[39m [\u001b[38;5;28mcls\u001b[39m\u001b[38;5;241m.\u001b[39mconvert(child) \u001b[38;5;28;01mfor\u001b[39;00m child \u001b[38;5;129;01min\u001b[39;00m tree]\n\u001b[0;32m    544\u001b[0m     \u001b[38;5;28;01mreturn\u001b[39;00m \u001b[38;5;28mcls\u001b[39m(tree\u001b[38;5;241m.\u001b[39m_label, children)\n\u001b[0;32m    545\u001b[0m \u001b[38;5;28;01melse\u001b[39;00m:\n",
      "File \u001b[1;32m~\\anaconda3\\Lib\\site-packages\\nltk\\tree\\tree.py:544\u001b[0m, in \u001b[0;36mTree.convert\u001b[1;34m(cls, tree)\u001b[0m\n\u001b[0;32m    542\u001b[0m \u001b[38;5;28;01mif\u001b[39;00m \u001b[38;5;28misinstance\u001b[39m(tree, Tree):\n\u001b[0;32m    543\u001b[0m     children \u001b[38;5;241m=\u001b[39m [\u001b[38;5;28mcls\u001b[39m\u001b[38;5;241m.\u001b[39mconvert(child) \u001b[38;5;28;01mfor\u001b[39;00m child \u001b[38;5;129;01min\u001b[39;00m tree]\n\u001b[1;32m--> 544\u001b[0m     \u001b[38;5;28;01mreturn\u001b[39;00m \u001b[38;5;28mcls\u001b[39m(tree\u001b[38;5;241m.\u001b[39m_label, children)\n\u001b[0;32m    545\u001b[0m \u001b[38;5;28;01melse\u001b[39;00m:\n\u001b[0;32m    546\u001b[0m     \u001b[38;5;28;01mreturn\u001b[39;00m tree\n",
      "\u001b[1;31mRecursionError\u001b[0m: maximum recursion depth exceeded"
     ]
    }
   ],
   "source": [
    "import nltk\n",
    "from nltk import CFG\n",
    "from nltk.parse import RecursiveDescentParser\n",
    "\n",
    "# Define a context-free grammar\n",
    "grammar = CFG.fromstring(\"\"\"\n",
    "    S -> NP VP\n",
    "    PP -> P NP\n",
    "    NP -> Det N | Det N PP | 'I'\n",
    "    VP -> V NP | VP PP\n",
    "    Det -> 'an' | 'my'\n",
    "    N -> 'elephant' | 'pajamas'\n",
    "    V -> 'shot'\n",
    "    P -> 'in'\n",
    "\"\"\")\n",
    "\n",
    "# Define a sentence\n",
    "sentence = \"I shot an elephant in my pajamas\".split()\n",
    "\n",
    "# Create a parser with the grammar\n",
    "parser = RecursiveDescentParser(grammar)\n",
    "\n",
    "# Parse the sentence and print the parse trees\n",
    "for tree in parser.parse(sentence):\n",
    "    tree.pretty_print()\n"
   ]
  },
  {
   "cell_type": "code",
   "execution_count": null,
   "id": "69c5d474",
   "metadata": {},
   "outputs": [],
   "source": []
  }
 ],
 "metadata": {
  "kernelspec": {
   "display_name": "Python 3 (ipykernel)",
   "language": "python",
   "name": "python3"
  },
  "language_info": {
   "codemirror_mode": {
    "name": "ipython",
    "version": 3
   },
   "file_extension": ".py",
   "mimetype": "text/x-python",
   "name": "python",
   "nbconvert_exporter": "python",
   "pygments_lexer": "ipython3",
   "version": "3.11.5"
  }
 },
 "nbformat": 4,
 "nbformat_minor": 5
}
