{
 "cells": [
  {
   "cell_type": "code",
   "execution_count": 1,
   "id": "ae1a11ba",
   "metadata": {},
   "outputs": [
    {
     "name": "stdout",
     "output_type": "stream",
     "text": [
      "Line: , Syllables: 0\n",
      "Line: Once upon a midnight dreary, while I pondered, weak and weary,, Syllables: 15\n",
      "Line: Over many a quaint and curious volume of forgotten lore—, Syllables: 15\n",
      "Line: While I nodded, nearly napping, suddenly there came a tapping,, Syllables: 16\n",
      "Line: As of some one gently rapping, rapping at my chamber door., Syllables: 15\n",
      "Line: , Syllables: 0\n"
     ]
    }
   ],
   "source": [
    "import pyphen\n",
    "\n",
    "def count_syllables(line):\n",
    "    dic = pyphen.Pyphen(lang='en_US')\n",
    "    words = line.split()\n",
    "    syllables = sum([len(dic.inserted(word).split('-')) for word in words])\n",
    "    return syllables\n",
    "\n",
    "def analyze_poem(poem):\n",
    "    lines = poem.split('\\n')\n",
    "    for line in lines:\n",
    "        print(f'Line: {line}, Syllables: {count_syllables(line)}')\n",
    "\n",
    "poem = \"\"\"\n",
    "Once upon a midnight dreary, while I pondered, weak and weary,\n",
    "Over many a quaint and curious volume of forgotten lore—\n",
    "While I nodded, nearly napping, suddenly there came a tapping,\n",
    "As of some one gently rapping, rapping at my chamber door.\n",
    "\"\"\"\n",
    "analyze_poem(poem)\n"
   ]
  },
  {
   "cell_type": "code",
   "execution_count": 4,
   "id": "6ea2e688",
   "metadata": {
    "scrolled": false
   },
   "outputs": [
    {
     "name": "stdout",
     "output_type": "stream",
     "text": [
      "Line:                                                       Linguistics 178, Syllables: 4\n",
      "Line:                                                           Spring ’06, Syllables: 2\n",
      "Line: , Syllables: 0\n",
      "Line:               The Second Coming — W. B. Yeats, Syllables: 9\n",
      "Line: , Syllables: 0\n",
      "Line: , Syllables: 0\n",
      "Line: Turning and turning in the widening gyre, Syllables: 10\n",
      "Line: The falcon cannot hear the falconer;, Syllables: 10\n",
      "Line: Things fall apart; the centre cannot hold;, Syllables: 9\n",
      "Line: Mere anarchy is loosed upon the world,, Syllables: 10\n",
      "Line: The blood-dimmed tide is loosed, and everywhere, Syllables: 11\n",
      "Line: The ceremony of innocence is drowned;, Syllables: 11\n",
      "Line: The best lack all convictions, while the worst, Syllables: 11\n",
      "Line: Are full of passionate intensity., Syllables: 10\n",
      "Line: , Syllables: 0\n",
      "Line: Surely some revelation is at hand;, Syllables: 10\n",
      "Line: Surely the Second Coming is at hand., Syllables: 10\n",
      "Line: The Second Coming! Hardly are those words out, Syllables: 11\n",
      "Line: When a vast image out of Spiritus Mundi, Syllables: 12\n",
      "Line: Troubles my sight: somewhere in sands of the desert, Syllables: 11\n",
      "Line: A shape with lion body and the head of a man,, Syllables: 12\n",
      "Line: A gaze blank and pitiless as the sun,, Syllables: 9\n",
      "Line: Is moving its slow thighs, while all about it, Syllables: 11\n",
      "Line: Reel shadows of the indignant desert birds., Syllables: 11\n",
      "Line: The darkness drops again; but now I know, Syllables: 9\n",
      "Line: That twenty centuries of stony sleep, Syllables: 8\n",
      "Line: Were vexed to nightmare by a rocking cradle,, Syllables: 10\n",
      "Line: And what rough beast, its hour come round at last,, Syllables: 10\n",
      "Line: Slouches towards Bethlehem to be born?, Syllables: 10\n",
      "Line: \f",
      ", Syllables: 0\n"
     ]
    }
   ],
   "source": [
    "import pyphen\n",
    "\n",
    "def count_syllables(line):\n",
    "    dic = pyphen.Pyphen(lang='en_US')\n",
    "    words = line.split()\n",
    "    syllables = sum([len(dic.inserted(word).split('-')) for word in words])\n",
    "    return syllables\n",
    "\n",
    "def analyze_poem(file_path):  # Use a variable name here\n",
    "    with open(file_path, 'r', encoding='utf-8') as file:\n",
    "        poem = file.read()\n",
    "    lines = poem.split('\\n')\n",
    "    for line in lines:\n",
    "        print(f'Line: {line}, Syllables: {count_syllables(line)}')\n",
    "\n",
    "# Call the function with the file path as a string\n",
    "analyze_poem(\"C:/Users/amusa/SC.txt\")\n",
    "\n"
   ]
  },
  {
   "cell_type": "code",
   "execution_count": 5,
   "id": "2b247042",
   "metadata": {
    "scrolled": true
   },
   "outputs": [
    {
     "name": "stdout",
     "output_type": "stream",
     "text": [
      "Line:                                                       Linguistics 178, Syllables: 4, Guessed Meter: iambic\n",
      "Line:                                                           Spring ’06, Syllables: 2, Guessed Meter: iambic\n",
      "Line: , Syllables: 0, Guessed Meter: iambic\n",
      "Line:               The Second Coming — W. B. Yeats, Syllables: 9, Guessed Meter: trochaic\n",
      "Line: , Syllables: 0, Guessed Meter: iambic\n",
      "Line: , Syllables: 0, Guessed Meter: iambic\n",
      "Line: Turning and turning in the widening gyre, Syllables: 10, Guessed Meter: iambic\n",
      "Line: The falcon cannot hear the falconer;, Syllables: 10, Guessed Meter: iambic\n",
      "Line: Things fall apart; the centre cannot hold;, Syllables: 9, Guessed Meter: trochaic\n",
      "Line: Mere anarchy is loosed upon the world,, Syllables: 10, Guessed Meter: iambic\n",
      "Line: The blood-dimmed tide is loosed, and everywhere, Syllables: 11, Guessed Meter: trochaic\n",
      "Line: The ceremony of innocence is drowned;, Syllables: 11, Guessed Meter: trochaic\n",
      "Line: The best lack all convictions, while the worst, Syllables: 11, Guessed Meter: trochaic\n",
      "Line: Are full of passionate intensity., Syllables: 10, Guessed Meter: iambic\n",
      "Line: , Syllables: 0, Guessed Meter: iambic\n",
      "Line: Surely some revelation is at hand;, Syllables: 10, Guessed Meter: iambic\n",
      "Line: Surely the Second Coming is at hand., Syllables: 10, Guessed Meter: iambic\n",
      "Line: The Second Coming! Hardly are those words out, Syllables: 11, Guessed Meter: trochaic\n",
      "Line: When a vast image out of Spiritus Mundi, Syllables: 12, Guessed Meter: iambic\n",
      "Line: Troubles my sight: somewhere in sands of the desert, Syllables: 11, Guessed Meter: trochaic\n",
      "Line: A shape with lion body and the head of a man,, Syllables: 12, Guessed Meter: iambic\n",
      "Line: A gaze blank and pitiless as the sun,, Syllables: 9, Guessed Meter: trochaic\n",
      "Line: Is moving its slow thighs, while all about it, Syllables: 11, Guessed Meter: trochaic\n",
      "Line: Reel shadows of the indignant desert birds., Syllables: 11, Guessed Meter: trochaic\n",
      "Line: The darkness drops again; but now I know, Syllables: 9, Guessed Meter: trochaic\n",
      "Line: That twenty centuries of stony sleep, Syllables: 8, Guessed Meter: iambic\n",
      "Line: Were vexed to nightmare by a rocking cradle,, Syllables: 10, Guessed Meter: iambic\n",
      "Line: And what rough beast, its hour come round at last,, Syllables: 10, Guessed Meter: iambic\n",
      "Line: Slouches towards Bethlehem to be born?, Syllables: 10, Guessed Meter: iambic\n",
      "Line: \f",
      ", Syllables: 0, Guessed Meter: iambic\n"
     ]
    }
   ],
   "source": [
    "import pyphen\n",
    "\n",
    "def count_syllables(line):\n",
    "    dic = pyphen.Pyphen(lang='en_US')\n",
    "    words = line.split()\n",
    "    syllables = sum([len(dic.inserted(word).split('-')) for word in words])\n",
    "    return syllables\n",
    "\n",
    "def guess_meter(syllables):\n",
    "    if syllables % 2 == 0:\n",
    "        return 'iambic'\n",
    "    else:\n",
    "        return 'trochaic'\n",
    "\n",
    "def analyze_poem(file_path):\n",
    "    with open(file_path, 'r', encoding='utf-8') as file:\n",
    "        poem = file.read()\n",
    "    lines = poem.split('\\n')\n",
    "    for line in lines:\n",
    "        syllables = count_syllables(line)\n",
    "        meter = guess_meter(syllables)\n",
    "        print(f'Line: {line}, Syllables: {syllables}, Guessed Meter: {meter}')\n",
    "\n",
    "# Replace 'SC' with the actual path to your file\n",
    "analyze_poem(\"C:/Users/amusa/SC.txt\")"
   ]
  },
  {
   "cell_type": "code",
   "execution_count": null,
   "id": "2abc2035",
   "metadata": {},
   "outputs": [],
   "source": []
  }
 ],
 "metadata": {
  "kernelspec": {
   "display_name": "Python 3 (ipykernel)",
   "language": "python",
   "name": "python3"
  },
  "language_info": {
   "codemirror_mode": {
    "name": "ipython",
    "version": 3
   },
   "file_extension": ".py",
   "mimetype": "text/x-python",
   "name": "python",
   "nbconvert_exporter": "python",
   "pygments_lexer": "ipython3",
   "version": "3.11.5"
  }
 },
 "nbformat": 4,
 "nbformat_minor": 5
}
