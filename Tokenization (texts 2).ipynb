{
 "cells": [
  {
   "cell_type": "code",
   "execution_count": 18,
   "id": "8b806fcd",
   "metadata": {},
   "outputs": [],
   "source": [
    "import nltk\n",
    "from nltk.tokenize import word_tokenize\n",
    "\n",
    "text = \"This is an example sentence. Tokenization separates it into words.\"\n",
    "tokens = word_tokenize(text)"
   ]
  },
  {
   "cell_type": "code",
   "execution_count": 19,
   "id": "44aa880d",
   "metadata": {},
   "outputs": [
    {
     "name": "stdout",
     "output_type": "stream",
     "text": [
      "Tokens: ['This', 'is', 'an', 'example', 'sentence', '.', 'Tokenization', 'separates', 'it', 'into', 'words', '.']\n"
     ]
    }
   ],
   "source": [
    "print(\"Tokens:\", tokens)"
   ]
  },
  {
   "cell_type": "code",
   "execution_count": 21,
   "id": "996f17a8",
   "metadata": {},
   "outputs": [],
   "source": [
    "import nltk\n",
    "from nltk.tokenize import word_tokenize\n",
    "\n",
    "text = '''\n",
    "This paper examines the complex relationship between language, human cognition, and artificial intelligence. \n",
    "It seeks to understand the cognitive processes involved in human conversation, envisaging a future where AI chatbots engage in genuinely human-like conversations. \n",
    "Since Generative AI has entered a transformational phase via the domain of Natural Language Processing (NLP) imitating human-agent in human-AI conversations, it is pertinent to examine how customer-service representatives have been well represented by Gen AI to undertake the responsibility of responding to human emotional, mental, and psychological needs.\n",
    "'''\n",
    "tokens = word_tokenize(text)"
   ]
  },
  {
   "cell_type": "code",
   "execution_count": 22,
   "id": "02812d28",
   "metadata": {},
   "outputs": [
    {
     "name": "stdout",
     "output_type": "stream",
     "text": [
      "Tokens: ['This', 'paper', 'examines', 'the', 'complex', 'relationship', 'between', 'language', ',', 'human', 'cognition', ',', 'and', 'artificial', 'intelligence', '.', 'It', 'seeks', 'to', 'understand', 'the', 'cognitive', 'processes', 'involved', 'in', 'human', 'conversation', ',', 'envisaging', 'a', 'future', 'where', 'AI', 'chatbots', 'engage', 'in', 'genuinely', 'human-like', 'conversations', '.', 'Since', 'Generative', 'AI', 'has', 'entered', 'a', 'transformational', 'phase', 'via', 'the', 'domain', 'of', 'Natural', 'Language', 'Processing', '(', 'NLP', ')', 'imitating', 'human-agent', 'in', 'human-AI', 'conversations', ',', 'it', 'is', 'pertinent', 'to', 'examine', 'how', 'customer-service', 'representatives', 'have', 'been', 'well', 'represented', 'by', 'Gen', 'AI', 'to', 'undertake', 'the', 'responsibility', 'of', 'responding', 'to', 'human', 'emotional', ',', 'mental', ',', 'and', 'psychological', 'needs', '.']\n"
     ]
    }
   ],
   "source": [
    "print(\"Tokens:\", tokens)"
   ]
  },
  {
   "cell_type": "code",
   "execution_count": null,
   "id": "de097abd",
   "metadata": {},
   "outputs": [],
   "source": []
  }
 ],
 "metadata": {
  "kernelspec": {
   "display_name": "Python 3 (ipykernel)",
   "language": "python",
   "name": "python3"
  },
  "language_info": {
   "codemirror_mode": {
    "name": "ipython",
    "version": 3
   },
   "file_extension": ".py",
   "mimetype": "text/x-python",
   "name": "python",
   "nbconvert_exporter": "python",
   "pygments_lexer": "ipython3",
   "version": "3.11.5"
  }
 },
 "nbformat": 4,
 "nbformat_minor": 5
}
