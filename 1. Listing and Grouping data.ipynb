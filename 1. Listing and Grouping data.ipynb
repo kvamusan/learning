{
 "cells": [
  {
   "cell_type": "code",
   "execution_count": 8,
   "id": "9b69fe5e",
   "metadata": {},
   "outputs": [],
   "source": [
    "#Lang 1 = Yoruba\n",
    "#Lang 2 = Igbo\n",
    "#Lang 3 = Hausa\n",
    "\n",
    "Langs = [\n",
    "    'Yoruba',\n",
    "    'Igbo',\n",
    "    'Hausa',\n",
    "]"
   ]
  },
  {
   "cell_type": "code",
   "execution_count": 14,
   "id": "5b2f9d0b",
   "metadata": {},
   "outputs": [
    {
     "name": "stdout",
     "output_type": "stream",
     "text": [
      "wealthy\n"
     ]
    }
   ],
   "source": [
    "#To create a dictionary\n",
    "#Semantics\n",
    "Wealthy = {'affluence',\n",
    "    'rich'}\n",
    "\n",
    "print('wealthy')"
   ]
  },
  {
   "cell_type": "code",
   "execution_count": null,
   "id": "6302e041",
   "metadata": {},
   "outputs": [],
   "source": []
  }
 ],
 "metadata": {
  "kernelspec": {
   "display_name": "Python 3 (ipykernel)",
   "language": "python",
   "name": "python3"
  },
  "language_info": {
   "codemirror_mode": {
    "name": "ipython",
    "version": 3
   },
   "file_extension": ".py",
   "mimetype": "text/x-python",
   "name": "python",
   "nbconvert_exporter": "python",
   "pygments_lexer": "ipython3",
   "version": "3.11.5"
  }
 },
 "nbformat": 4,
 "nbformat_minor": 5
}
