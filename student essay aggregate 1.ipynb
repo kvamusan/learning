{
 "cells": [
  {
   "cell_type": "code",
   "execution_count": 36,
   "id": "5baca62f",
   "metadata": {},
   "outputs": [],
   "source": [
    "essay_1 = 95\n",
    "essay_2 = 90\n",
    "essay_3 = 90\n",
    "essay_4 = 95\n",
    "attendance = 80\n",
    "final_portfolio = 93\n",
    "essay_weight = 15\n",
    "attendance_weight = 10\n",
    "final_portfolio_weight = 30"
   ]
  },
  {
   "cell_type": "code",
   "execution_count": 37,
   "id": "57f6d3af",
   "metadata": {},
   "outputs": [],
   "source": [
    "total_score = (essay_1 + essay_2 + essay_3 + essay_4) * essay_weight + attendance * attendance_weight + final_portfolio * final_portfolio_weight"
   ]
  },
  {
   "cell_type": "code",
   "execution_count": 38,
   "id": "bb6a3936",
   "metadata": {},
   "outputs": [],
   "source": [
    "percentage = total_score / 100"
   ]
  },
  {
   "cell_type": "code",
   "execution_count": 39,
   "id": "df0df8a8",
   "metadata": {},
   "outputs": [
    {
     "name": "stdout",
     "output_type": "stream",
     "text": [
      "The student's grade for the semester is 91.40%\n"
     ]
    }
   ],
   "source": [
    "print(f\"The student's grade for the semester is {percentage:.2f}%\")"
   ]
  },
  {
   "cell_type": "code",
   "execution_count": 4,
   "id": "c4bf0162",
   "metadata": {},
   "outputs": [],
   "source": [
    "essay_1 = 92\n",
    "essay_2 = 91\n",
    "essay_3 = 97\n",
    "essay_4 = 86\n",
    "attendance = 80\n",
    "final_portfolio = 90\n",
    "essay_weight = 15\n",
    "attendance_weight = 10\n",
    "final_portfolio_weight = 30"
   ]
  },
  {
   "cell_type": "code",
   "execution_count": 5,
   "id": "7c19ecb6",
   "metadata": {},
   "outputs": [],
   "source": [
    "total_score = (essay_1 + essay_2 + essay_3 + essay_4) * essay_weight + attendance * attendance_weight + final_portfolio * final_portfolio_weight"
   ]
  },
  {
   "cell_type": "code",
   "execution_count": 6,
   "id": "c0bb28d8",
   "metadata": {},
   "outputs": [],
   "source": [
    "percentage = total_score / 100"
   ]
  },
  {
   "cell_type": "code",
   "execution_count": 7,
   "id": "55d88af1",
   "metadata": {},
   "outputs": [
    {
     "name": "stdout",
     "output_type": "stream",
     "text": [
      "The student's grade for the semester is 89.90%\n"
     ]
    }
   ],
   "source": [
    "print(f\"The student's grade for the semester is {percentage:.2f}%\")"
   ]
  },
  {
   "cell_type": "code",
   "execution_count": 11,
   "id": "e2c93cc1",
   "metadata": {},
   "outputs": [],
   "source": [
    "essay_1 = 92\n",
    "essay_2 = 87\n",
    "essay_3 = 94\n",
    "essay_4 = 92\n",
    "attendance = 90\n",
    "final_portfolio = 96\n",
    "essay_weight = 15\n",
    "attendance_weight = 10\n",
    "final_portfolio_weight = 30"
   ]
  },
  {
   "cell_type": "code",
   "execution_count": 12,
   "id": "1ada753d",
   "metadata": {},
   "outputs": [],
   "source": [
    "total_score = (essay_1 + essay_2 + essay_3 + essay_4) * essay_weight + attendance * attendance_weight + final_portfolio * final_portfolio_weight"
   ]
  },
  {
   "cell_type": "code",
   "execution_count": 13,
   "id": "049f682f",
   "metadata": {},
   "outputs": [],
   "source": [
    "percentage = total_score / 100"
   ]
  },
  {
   "cell_type": "code",
   "execution_count": 14,
   "id": "a6d67e57",
   "metadata": {},
   "outputs": [
    {
     "name": "stdout",
     "output_type": "stream",
     "text": [
      "The student's grade for the semester is 92.55%\n"
     ]
    }
   ],
   "source": [
    "print(f\"The student's grade for the semester is {percentage:.2f}%\")"
   ]
  },
  {
   "cell_type": "code",
   "execution_count": null,
   "id": "400f7641",
   "metadata": {},
   "outputs": [],
   "source": []
  }
 ],
 "metadata": {
  "kernelspec": {
   "display_name": "Python 3 (ipykernel)",
   "language": "python",
   "name": "python3"
  },
  "language_info": {
   "codemirror_mode": {
    "name": "ipython",
    "version": 3
   },
   "file_extension": ".py",
   "mimetype": "text/x-python",
   "name": "python",
   "nbconvert_exporter": "python",
   "pygments_lexer": "ipython3",
   "version": "3.11.5"
  }
 },
 "nbformat": 4,
 "nbformat_minor": 5
}
