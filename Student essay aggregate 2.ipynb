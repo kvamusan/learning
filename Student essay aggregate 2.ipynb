{
 "cells": [
  {
   "cell_type": "code",
   "execution_count": 36,
   "id": "87645b8d",
   "metadata": {},
   "outputs": [],
   "source": [
    "essay_1 = 95\n",
    "essay_2 = 90\n",
    "essay_3 = 90\n",
    "essay_4 = 95\n",
    "attendance = 80\n",
    "final_portfolio = 93\n",
    "essay_weight = 15\n",
    "attendance_weight = 10\n",
    "final_portfolio_weight = 30"
   ]
  },
  {
   "cell_type": "code",
   "execution_count": 37,
   "id": "e83e9ab1",
   "metadata": {},
   "outputs": [],
   "source": [
    "total_score = (essay_1 + essay_2 + essay_3 + essay_4) * essay_weight + attendance * attendance_weight + final_portfolio * final_portfolio_weight"
   ]
  },
  {
   "cell_type": "code",
   "execution_count": 38,
   "id": "65099440",
   "metadata": {},
   "outputs": [],
   "source": [
    "percentage = total_score / 100"
   ]
  },
  {
   "cell_type": "code",
   "execution_count": 39,
   "id": "983b63f5",
   "metadata": {},
   "outputs": [
    {
     "name": "stdout",
     "output_type": "stream",
     "text": [
      "The student's grade for the semester is 91.40%\n"
     ]
    }
   ],
   "source": [
    "print(f\"The student's grade for the semester is {percentage:.2f}%\")"
   ]
  },
  {
   "cell_type": "code",
   "execution_count": null,
   "id": "b9c50c66",
   "metadata": {},
   "outputs": [],
   "source": []
  }
 ],
 "metadata": {
  "kernelspec": {
   "display_name": "Python 3 (ipykernel)",
   "language": "python",
   "name": "python3"
  },
  "language_info": {
   "codemirror_mode": {
    "name": "ipython",
    "version": 3
   },
   "file_extension": ".py",
   "mimetype": "text/x-python",
   "name": "python",
   "nbconvert_exporter": "python",
   "pygments_lexer": "ipython3",
   "version": "3.11.5"
  }
 },
 "nbformat": 4,
 "nbformat_minor": 5
}
