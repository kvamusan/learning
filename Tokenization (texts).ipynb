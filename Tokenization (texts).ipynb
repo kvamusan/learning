{
 "cells": [
  {
   "cell_type": "code",
   "execution_count": 25,
   "id": "d6c1b255",
   "metadata": {},
   "outputs": [],
   "source": [
    "data = \"The human-human conversations have demonstrated a higher level of adaptability, context recognition and emotional intelligence. AI-customer service interactions show that the chatbots recognized the context but struggled to adapt to the emotional expressions of the customers by providing patterned and formulaic responses, which perpetually resulted in dissatisfaction. The study has demonstrated that AI chatbots are facing challenges in genuinely imitating human-like conversations, especially in the context of complex emotions. While Gen AI has made substantial improvement in customer-service interactions, it needs more technological enhancement to truly understand and respond to human emotional, mental, and psychological needs.\""
   ]
  },
  {
   "cell_type": "code",
   "execution_count": 26,
   "id": "184ac7fa",
   "metadata": {},
   "outputs": [],
   "source": [
    "words = data.split()"
   ]
  },
  {
   "cell_type": "code",
   "execution_count": 27,
   "id": "7426494c",
   "metadata": {},
   "outputs": [],
   "source": [
    "word_count = len(words)"
   ]
  },
  {
   "cell_type": "code",
   "execution_count": 28,
   "id": "4f630f39",
   "metadata": {},
   "outputs": [
    {
     "name": "stdout",
     "output_type": "stream",
     "text": [
      "The number of words in the data is 96.\n"
     ]
    }
   ],
   "source": [
    "print(f\"The number of words in the data is {word_count}.\")"
   ]
  },
  {
   "cell_type": "code",
   "execution_count": 40,
   "id": "fe6fa8f4",
   "metadata": {},
   "outputs": [],
   "source": [
    "data = \"The human-human conversations have demonstrated a higher level of adaptability, context recognition and emotional intelligence. AI-customer service interactions show that the chatbots recognized the context but struggled to adapt to the emotional expressions of the customers by providing patterned and formulaic responses, which perpetually resulted in dissatisfaction. The study has demonstrated that AI chatbots are facing challenges in genuinely imitating human-like conversations, especially in the context of complex emotions. While Gen AI has made substantial improvement in customer-service interactions, it needs more technological enhancement to truly understand and respond to human emotional, mental, and psychological needs.\""
   ]
  },
  {
   "cell_type": "code",
   "execution_count": 41,
   "id": "f1cc2341",
   "metadata": {},
   "outputs": [],
   "source": [
    "words = data.split()"
   ]
  },
  {
   "cell_type": "code",
   "execution_count": 42,
   "id": "85dc37e8",
   "metadata": {},
   "outputs": [],
   "source": [
    "count = 0"
   ]
  },
  {
   "cell_type": "code",
   "execution_count": 43,
   "id": "a82be060",
   "metadata": {},
   "outputs": [],
   "source": [
    "for word in words:\n",
    "  if word == 'the':\n",
    "    count += 1"
   ]
  },
  {
   "cell_type": "code",
   "execution_count": 44,
   "id": "a0c468ab",
   "metadata": {},
   "outputs": [
    {
     "name": "stdout",
     "output_type": "stream",
     "text": [
      "The number of 'the' in the data is 5\n"
     ]
    }
   ],
   "source": [
    "print(\"The number of 'and' in the data is\", count)"
   ]
  }
 ],
 "metadata": {
  "kernelspec": {
   "display_name": "Python 3 (ipykernel)",
   "language": "python",
   "name": "python3"
  },
  "language_info": {
   "codemirror_mode": {
    "name": "ipython",
    "version": 3
   },
   "file_extension": ".py",
   "mimetype": "text/x-python",
   "name": "python",
   "nbconvert_exporter": "python",
   "pygments_lexer": "ipython3",
   "version": "3.11.5"
  }
 },
 "nbformat": 4,
 "nbformat_minor": 5
}
