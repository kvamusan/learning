{
 "cells": [
  {
   "cell_type": "code",
   "execution_count": 6,
   "id": "8d8506de",
   "metadata": {},
   "outputs": [
    {
     "name": "stdout",
     "output_type": "stream",
     "text": [
      "challenge 1:\n",
      "Very tricky!\n"
     ]
    }
   ],
   "source": [
    "print(\"challenge 1:\")\n",
    "message = \"This is going to be tricky;\"\n",
    "Message = \"Very tricky!\"\n",
    "print(Message)"
   ]
  },
  {
   "cell_type": "code",
   "execution_count": 11,
   "id": "c0a4fc33",
   "metadata": {},
   "outputs": [
    {
     "name": "stdout",
     "output_type": "stream",
     "text": [
      "Task 5:\n",
      "I want you to build a house;\n"
     ]
    }
   ],
   "source": [
    "print(\"Task 5:\")\n",
    "week_1 = \"I want you to build a house;\"\n",
    "week_2 = \"I want you to play a game;\"\n",
    "week_3 = \"I want you to drive your car.\"\n",
    "print(week_1)"
   ]
  },
  {
   "cell_type": "code",
   "execution_count": 14,
   "id": "e8d9b13f",
   "metadata": {},
   "outputs": [
    {
     "name": "stdout",
     "output_type": "stream",
     "text": [
      "<class 'str'>\n"
     ]
    }
   ],
   "source": [
    "variable = \"12\"\n",
    "print(type(variable))"
   ]
  }
 ],
 "metadata": {
  "kernelspec": {
   "display_name": "Python 3 (ipykernel)",
   "language": "python",
   "name": "python3"
  },
  "language_info": {
   "codemirror_mode": {
    "name": "ipython",
    "version": 3
   },
   "file_extension": ".py",
   "mimetype": "text/x-python",
   "name": "python",
   "nbconvert_exporter": "python",
   "pygments_lexer": "ipython3",
   "version": "3.11.5"
  }
 },
 "nbformat": 4,
 "nbformat_minor": 5
}
