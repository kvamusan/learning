{
 "cells": [
  {
   "cell_type": "code",
   "execution_count": 2,
   "id": "c9e37013",
   "metadata": {},
   "outputs": [],
   "source": [
    "import nltk"
   ]
  },
  {
   "cell_type": "code",
   "execution_count": 3,
   "id": "658f3a16",
   "metadata": {},
   "outputs": [],
   "source": [
    "from nltk.tokenize import word_tokenize"
   ]
  },
  {
   "cell_type": "code",
   "execution_count": 4,
   "id": "aec4e247",
   "metadata": {},
   "outputs": [],
   "source": [
    "text = \"\"\"This paper examines the complex relationship between language, human cognition, and artificial intelligence. It seeks to understand the cognitive processes involved in human conversation, envisaging a future where AI chatbots engage in genuinely human-like conversations. Since Generative AI has entered a transformational phase via the domain of Natural Language Processing (NLP) imitating human-agent in human-AI conversations, it is pertinent to examine how customer-service representatives have been well represented by Gen AI to undertake the responsibility of responding to human emotional, mental, and psychological needs. \n",
    "The study collected a corpus dataset encompassing both human-human and human-AI conversations. It involved a comparative analysis of natural human interactions and interactions involving AI chatbots. It investigated how AI chatbots have been able to demonstrate understanding of basic human emotional, mental, and psychological needs. The datasets included distinct sets of conversational contexts as they encompass conversational elements related to emotions such as sadness, anger, joy, and surprise between L2 speakers of English and AI. It examined the extent to which Gen AI models understand the cognitive processes involved in human communication using Searls’ model of Speech Act theory. \n",
    "\"\"\""
   ]
  },
  {
   "cell_type": "code",
   "execution_count": 5,
   "id": "fbadda0c",
   "metadata": {},
   "outputs": [],
   "source": [
    "tokens = word_tokenize(text)"
   ]
  },
  {
   "cell_type": "code",
   "execution_count": 6,
   "id": "453312b0",
   "metadata": {},
   "outputs": [],
   "source": [
    "pos_tags = nltk.pos_tag(tokens)"
   ]
  },
  {
   "cell_type": "code",
   "execution_count": 27,
   "id": "56aa820a",
   "metadata": {
    "scrolled": true
   },
   "outputs": [
    {
     "name": "stdout",
     "output_type": "stream",
     "text": [
      "Part-of-Speech Tags: [('This', 'DT'), ('paper', 'NN'), ('examines', 'VBZ'), ('the', 'DT'), ('complex', 'JJ'), ('relationship', 'NN'), ('between', 'IN'), ('language', 'NN'), (',', ','), ('human', 'JJ'), ('cognition', 'NN'), (',', ','), ('and', 'CC'), ('artificial', 'JJ'), ('intelligence', 'NN'), ('.', '.'), ('It', 'PRP'), ('seeks', 'VBZ'), ('to', 'TO'), ('understand', 'VB'), ('the', 'DT'), ('cognitive', 'JJ'), ('processes', 'NNS'), ('involved', 'VBN'), ('in', 'IN'), ('human', 'JJ'), ('conversation', 'NN'), (',', ','), ('envisaging', 'VBG'), ('a', 'DT'), ('future', 'NN'), ('where', 'WRB'), ('AI', 'NNP'), ('chatbots', 'VBZ'), ('engage', 'NN'), ('in', 'IN'), ('genuinely', 'RB'), ('human-like', 'JJ'), ('conversations', 'NNS'), ('.', '.'), ('Since', 'IN'), ('Generative', 'NNP'), ('AI', 'NNP'), ('has', 'VBZ'), ('entered', 'VBN'), ('a', 'DT'), ('transformational', 'JJ'), ('phase', 'NN'), ('via', 'IN'), ('the', 'DT'), ('domain', 'NN'), ('of', 'IN'), ('Natural', 'NNP'), ('Language', 'NNP'), ('Processing', 'NNP'), ('(', '('), ('NLP', 'NNP'), (')', ')'), ('imitating', 'VBG'), ('human-agent', 'JJ'), ('in', 'IN'), ('human-AI', 'JJ'), ('conversations', 'NNS'), (',', ','), ('it', 'PRP'), ('is', 'VBZ'), ('pertinent', 'JJ'), ('to', 'TO'), ('examine', 'VB'), ('how', 'WRB'), ('customer-service', 'JJ'), ('representatives', 'NNS'), ('have', 'VBP'), ('been', 'VBN'), ('well', 'RB'), ('represented', 'VBN'), ('by', 'IN'), ('Gen', 'NNP'), ('AI', 'NNP'), ('to', 'TO'), ('undertake', 'VB'), ('the', 'DT'), ('responsibility', 'NN'), ('of', 'IN'), ('responding', 'VBG'), ('to', 'TO'), ('human', 'JJ'), ('emotional', 'JJ'), (',', ','), ('mental', 'JJ'), (',', ','), ('and', 'CC'), ('psychological', 'JJ'), ('needs', 'NNS'), ('.', '.'), ('The', 'DT'), ('study', 'NN'), ('collected', 'VBD'), ('a', 'DT'), ('corpus', 'NN'), ('dataset', 'NN'), ('encompassing', 'VBG'), ('both', 'DT'), ('human-human', 'JJ'), ('and', 'CC'), ('human-AI', 'JJ'), ('conversations', 'NNS'), ('.', '.'), ('It', 'PRP'), ('involved', 'VBD'), ('a', 'DT'), ('comparative', 'JJ'), ('analysis', 'NN'), ('of', 'IN'), ('natural', 'JJ'), ('human', 'JJ'), ('interactions', 'NNS'), ('and', 'CC'), ('interactions', 'NNS'), ('involving', 'VBG'), ('AI', 'NNP'), ('chatbots', 'NNS'), ('.', '.'), ('It', 'PRP'), ('investigated', 'VBD'), ('how', 'WRB'), ('AI', 'NNP'), ('chatbots', 'NNS'), ('have', 'VBP'), ('been', 'VBN'), ('able', 'JJ'), ('to', 'TO'), ('demonstrate', 'VB'), ('understanding', 'NN'), ('of', 'IN'), ('basic', 'JJ'), ('human', 'JJ'), ('emotional', 'JJ'), (',', ','), ('mental', 'JJ'), (',', ','), ('and', 'CC'), ('psychological', 'JJ'), ('needs', 'NNS'), ('.', '.'), ('The', 'DT'), ('datasets', 'NNS'), ('included', 'VBD'), ('distinct', 'JJ'), ('sets', 'NNS'), ('of', 'IN'), ('conversational', 'JJ'), ('contexts', 'NN'), ('as', 'IN'), ('they', 'PRP'), ('encompass', 'VBP'), ('conversational', 'JJ'), ('elements', 'NNS'), ('related', 'VBN'), ('to', 'TO'), ('emotions', 'NNS'), ('such', 'JJ'), ('as', 'IN'), ('sadness', 'NN'), (',', ','), ('anger', 'NN'), (',', ','), ('joy', 'NN'), (',', ','), ('and', 'CC'), ('surprise', 'NN'), ('between', 'IN'), ('L2', 'NNP'), ('speakers', 'NNS'), ('of', 'IN'), ('English', 'NNP'), ('and', 'CC'), ('AI', 'NNP'), ('.', '.'), ('It', 'PRP'), ('examined', 'VBD'), ('the', 'DT'), ('extent', 'NN'), ('to', 'TO'), ('which', 'WDT'), ('Gen', 'NNP'), ('AI', 'NNP'), ('models', 'NNS'), ('understand', 'VBP'), ('the', 'DT'), ('cognitive', 'JJ'), ('processes', 'NNS'), ('involved', 'VBN'), ('in', 'IN'), ('human', 'JJ'), ('communication', 'NN'), ('using', 'VBG'), ('Searls', 'NNP'), ('’', 'NNP'), ('model', 'NN'), ('of', 'IN'), ('Speech', 'NNP'), ('Act', 'NNP'), ('theory', 'NN'), ('.', '.')]\n"
     ]
    }
   ],
   "source": [
    "print(\"Part-of-Speech Tags:\", pos_tags)"
   ]
  },
  {
   "cell_type": "code",
   "execution_count": null,
   "id": "68f4b955",
   "metadata": {},
   "outputs": [],
   "source": []
  }
 ],
 "metadata": {
  "kernelspec": {
   "display_name": "Python 3 (ipykernel)",
   "language": "python",
   "name": "python3"
  },
  "language_info": {
   "codemirror_mode": {
    "name": "ipython",
    "version": 3
   },
   "file_extension": ".py",
   "mimetype": "text/x-python",
   "name": "python",
   "nbconvert_exporter": "python",
   "pygments_lexer": "ipython3",
   "version": "3.11.5"
  }
 },
 "nbformat": 4,
 "nbformat_minor": 5
}
