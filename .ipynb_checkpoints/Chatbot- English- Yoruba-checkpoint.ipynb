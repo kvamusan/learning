{
 "cells": [
  {
   "cell_type": "code",
   "execution_count": 1,
   "id": "81db9ffb",
   "metadata": {},
   "outputs": [
    {
     "name": "stdout",
     "output_type": "stream",
     "text": [
      "Hello!\n",
      "What is your name? Kayode\n",
      "I am happy to see you, Kayode\n",
      "Are you happy to see me? Yes\n",
      "Fine\n",
      "Let's proceed to the real discussion!\n",
      "Why are you here? I need your help.\n",
      "That's fine, Kayode\n",
      "Can we see you tomorrow? Yes, thank you.\n"
     ]
    }
   ],
   "source": [
    "print(\"Hello!\")\n",
    "name = input(\"What is your name? \")\n",
    "print(\"I am happy to see you,\", name)\n",
    "answer = input(\"Are you happy to see me? \")\n",
    "\n",
    "\n",
    "if answer==\"Yes\":\n",
    "    print(\"Fine\")\n",
    "else:\n",
    "    print(\"I hope there is no problem!\")\n",
    "    \n",
    "print(\"Let's proceed to the real discussion!\")\n",
    "answer = input(\"Why are you here? \")\n",
    "print(\"That's fine,\", name)\n",
    "answer = input(\"Can we see you tomorrow? \")"
   ]
  },
  {
   "cell_type": "code",
   "execution_count": 2,
   "id": "79170012",
   "metadata": {},
   "outputs": [
    {
     "name": "stdout",
     "output_type": "stream",
     "text": [
      "Ogbeni!\n",
      "Kinni Oruko re? Oluwakayode\n",
      "Onimi dun lati rio, Oluwakayode\n",
      "Se inu re dun lati ri mi? beeni\n",
      "Iyen naa dara pupo\n",
      "Jeki a tesi waju!\n",
      "Kinni o fe kin se fun o? Mo fe iranlowo re\n",
      "Iyen naa ko buru, Oluwakayode\n",
      "Je ki a soro lola? koburu\n"
     ]
    }
   ],
   "source": [
    "print(\"Ogbeni!\")\n",
    "name = input(\"Kinni Oruko re? \")\n",
    "print(\"Onimi dun lati rio,\", name)\n",
    "answer = input(\"Se inu re dun lati ri mi? \")\n",
    "\n",
    "\n",
    "if answer==\"beeni\":\n",
    "    print(\"Iyen naa dara pupo\")\n",
    "else:\n",
    "    print(\"Ko buru, inu gbogbo wa maa dun\")\n",
    "    \n",
    "print(\"Jeki a tesi waju!\")\n",
    "answer = input(\"Kinni o fe kin se fun o? \")\n",
    "print(\"Iyen naa ko buru,\", name)\n",
    "answer = input(\"Je ki a soro lola? \")"
   ]
  },
  {
   "cell_type": "code",
   "execution_count": null,
   "id": "b3bda921",
   "metadata": {},
   "outputs": [],
   "source": []
  }
 ],
 "metadata": {
  "kernelspec": {
   "display_name": "Python 3 (ipykernel)",
   "language": "python",
   "name": "python3"
  },
  "language_info": {
   "codemirror_mode": {
    "name": "ipython",
    "version": 3
   },
   "file_extension": ".py",
   "mimetype": "text/x-python",
   "name": "python",
   "nbconvert_exporter": "python",
   "pygments_lexer": "ipython3",
   "version": "3.11.5"
  }
 },
 "nbformat": 4,
 "nbformat_minor": 5
}
