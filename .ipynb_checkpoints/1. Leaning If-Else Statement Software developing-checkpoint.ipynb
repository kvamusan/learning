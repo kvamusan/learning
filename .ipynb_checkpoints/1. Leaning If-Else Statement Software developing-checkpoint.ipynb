{
 "cells": [
  {
   "cell_type": "code",
   "execution_count": 26,
   "id": "b1dfa97f",
   "metadata": {},
   "outputs": [
    {
     "name": "stdout",
     "output_type": "stream",
     "text": [
      "Men do not like money.\n",
      "thanks!\n"
     ]
    }
   ],
   "source": [
    "#If and Else\n",
    "human = \"Men\"\n",
    "\n",
    "if human == \"Men\":\n",
    "    print(human, \"do not like money.\")\n",
    "else: \n",
    "    print(human, \"love money.\")\n",
    "    \n",
    "print(\"thanks!\")"
   ]
  },
  {
   "cell_type": "code",
   "execution_count": 27,
   "id": "335d616e",
   "metadata": {},
   "outputs": [
    {
     "name": "stdout",
     "output_type": "stream",
     "text": [
      "Women love money.\n",
      "thanks!\n"
     ]
    }
   ],
   "source": [
    "human = \"Women\"\n",
    "\n",
    "if human == \"Men\":\n",
    "    print(human, \"do not like money.\")\n",
    "else: \n",
    "    print(human, \"love money.\")\n",
    "    \n",
    "print(\"thanks!\")"
   ]
  },
  {
   "cell_type": "code",
   "execution_count": 28,
   "id": "babefcf2",
   "metadata": {},
   "outputs": [
    {
     "name": "stdout",
     "output_type": "stream",
     "text": [
      "What's my favorite food?rice\n",
      "Yep! so amazing!\n",
      "thanks for playing!\n"
     ]
    }
   ],
   "source": [
    "#Guess Statement\n",
    "guess = input(\"What's my favorite food?\")\n",
    "\n",
    "if guess == \"rice\":\n",
    "    print(\"Yep! so amazing!\")\n",
    "else: \n",
    "    print(\"Yuck! That's not it!\")\n",
    "    \n",
    "print(\"thanks for playing!\")"
   ]
  },
  {
   "cell_type": "code",
   "execution_count": 29,
   "id": "1b80d613",
   "metadata": {},
   "outputs": [
    {
     "name": "stdout",
     "output_type": "stream",
     "text": [
      "What's my favorite food?Cookies\n",
      "Yuck! That's not it!\n",
      "thanks for playing!\n"
     ]
    }
   ],
   "source": [
    "guess = input(\"What's my favorite food?\")\n",
    "\n",
    "if guess == \"rice\":\n",
    "    print(\"Yep! so amazing!\")\n",
    "else: \n",
    "    print(\"Yuck! That's not it!\")\n",
    "    \n",
    "print(\"thanks for playing!\")"
   ]
  },
  {
   "cell_type": "code",
   "execution_count": 31,
   "id": "2cd4fa16",
   "metadata": {},
   "outputs": [
    {
     "name": "stdout",
     "output_type": "stream",
     "text": [
      "What's your name? James\n",
      "Yuck! I am sorry, you are not the one!\n",
      "thanks for coming!\n"
     ]
    }
   ],
   "source": [
    "#Guess Statement\n",
    "interview = input(\"What's your name? \")\n",
    "\n",
    "if interview == \"Charles\":\n",
    "    print(\"Yep! You are the man I have been waiting for!\")\n",
    "else: \n",
    "    print(\"Yuck! I am sorry, you are not the one!\")\n",
    "    \n",
    "print(\"thanks for coming!\")"
   ]
  },
  {
   "cell_type": "code",
   "execution_count": 33,
   "id": "4babd7b7",
   "metadata": {},
   "outputs": [
    {
     "name": "stdout",
     "output_type": "stream",
     "text": [
      "What's your name? Charles\n",
      "Yep! You are the man I have been waiting for!\n",
      "thanks for coming, have your sit!\n"
     ]
    }
   ],
   "source": [
    "interview = input(\"What's your name? \")\n",
    "\n",
    "if interview == \"Charles\":\n",
    "    print(\"Yep! You are the man I have been waiting for!\")\n",
    "else: \n",
    "    print(\"Yuck! I am sorry, you are not the one!\")\n",
    "    \n",
    "print(\"Thanks for coming, have your sit!\")"
   ]
  },
  {
   "cell_type": "code",
   "execution_count": 38,
   "id": "6f847cfe",
   "metadata": {},
   "outputs": [
    {
     "name": "stdout",
     "output_type": "stream",
     "text": [
      "The end\n"
     ]
    }
   ],
   "source": [
    "num = 16\n",
    "if num % 3 == 0:\n",
    "    print(num, \"is divisible by 3\")\n",
    "\n",
    "print(\"The end\")"
   ]
  },
  {
   "cell_type": "code",
   "execution_count": 41,
   "id": "ce440407",
   "metadata": {},
   "outputs": [
    {
     "name": "stdout",
     "output_type": "stream",
     "text": [
      "16\n"
     ]
    }
   ],
   "source": [
    "if (num>=0):\n",
    "      print(num)\n",
    "else:\n",
    "      print(-1 * num)"
   ]
  },
  {
   "cell_type": "code",
   "execution_count": null,
   "id": "0f1b506f",
   "metadata": {},
   "outputs": [],
   "source": []
  }
 ],
 "metadata": {
  "kernelspec": {
   "display_name": "Python 3 (ipykernel)",
   "language": "python",
   "name": "python3"
  },
  "language_info": {
   "codemirror_mode": {
    "name": "ipython",
    "version": 3
   },
   "file_extension": ".py",
   "mimetype": "text/x-python",
   "name": "python",
   "nbconvert_exporter": "python",
   "pygments_lexer": "ipython3",
   "version": "3.11.5"
  }
 },
 "nbformat": 4,
 "nbformat_minor": 5
}
