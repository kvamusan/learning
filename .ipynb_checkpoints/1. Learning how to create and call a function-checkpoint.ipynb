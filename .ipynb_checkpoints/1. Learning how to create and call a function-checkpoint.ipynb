{
 "cells": [
  {
   "cell_type": "code",
   "execution_count": 7,
   "id": "4ad681a8",
   "metadata": {},
   "outputs": [
    {
     "name": "stdout",
     "output_type": "stream",
     "text": [
      "If you want to learn a language,\n",
      "learn the syntax!\n",
      "learn the semantics!\n",
      "learn the phonetics and phonology!\n",
      "If you want to learn a language,\n",
      "learn the syntax!\n",
      "learn the semantics!\n",
      "learn the phonetics and phonology!\n",
      "If you want to learn a language,\n",
      "learn the syntax!\n",
      "learn the semantics!\n",
      "learn the phonetics and phonology!\n"
     ]
    }
   ],
   "source": [
    "#Create and Call functions\n",
    "\n",
    "def lang():\n",
    "    print(\"If you want to learn a language,\")\n",
    "    print(\"learn the syntax!\")\n",
    "    print(\"learn the semantics!\")\n",
    "    print(\"learn the phonetics and phonology!\")\n",
    "lang()\n",
    "\n",
    "lang()\n",
    "\n",
    "lang()"
   ]
  },
  {
   "cell_type": "code",
   "execution_count": 2,
   "id": "f4d8c259",
   "metadata": {},
   "outputs": [
    {
     "name": "stdout",
     "output_type": "stream",
     "text": [
      "Hello, friends!\n"
     ]
    }
   ],
   "source": [
    "def say_hello():#a semi colon is a requirement for creating a function in python\n",
    "    print(\"Hello, friends!\")\n",
    "\n",
    "say_hello()"
   ]
  },
  {
   "cell_type": "code",
   "execution_count": 19,
   "id": "40596e51",
   "metadata": {},
   "outputs": [
    {
     "name": "stdout",
     "output_type": "stream",
     "text": [
      "Hello, guys!\n"
     ]
    }
   ],
   "source": [
    "def say_hello(speaker):\n",
    "    if speaker == 'male':\n",
    "        print(\"Hello, guys!\")\n",
    "    \n",
    "    if speaker == 'female':\n",
    "        print(\"Hello, babes!\")\n",
    "\n",
    "say_hello('male')"
   ]
  },
  {
   "cell_type": "code",
   "execution_count": 20,
   "id": "a6896bca",
   "metadata": {},
   "outputs": [
    {
     "name": "stdout",
     "output_type": "stream",
     "text": [
      "Hello, babes!\n"
     ]
    }
   ],
   "source": [
    "say_hello('female')"
   ]
  },
  {
   "cell_type": "code",
   "execution_count": 22,
   "id": "735c7e60",
   "metadata": {},
   "outputs": [
    {
     "name": "stdout",
     "output_type": "stream",
     "text": [
      "One of my favourite cities is Lafayette, Louisiana\n",
      "One of my favourite cities is Malibu, Califonia\n",
      "One of my favourite cities is Bufallo, New York\n"
     ]
    }
   ],
   "source": [
    "#prints out the name of a favorite city\n",
    "def favorite_city(name):\n",
    "    print(\"One of my favourite cities is\", name)\n",
    "    \n",
    "favorite_city(\"Lafayette, Louisiana\")\n",
    "favorite_city(\"Malibu, Califonia\")\n",
    "favorite_city(\"Bufallo, New York\")"
   ]
  },
  {
   "cell_type": "code",
   "execution_count": null,
   "id": "4ededfd2",
   "metadata": {},
   "outputs": [],
   "source": []
  }
 ],
 "metadata": {
  "kernelspec": {
   "display_name": "Python 3 (ipykernel)",
   "language": "python",
   "name": "python3"
  },
  "language_info": {
   "codemirror_mode": {
    "name": "ipython",
    "version": 3
   },
   "file_extension": ".py",
   "mimetype": "text/x-python",
   "name": "python",
   "nbconvert_exporter": "python",
   "pygments_lexer": "ipython3",
   "version": "3.11.5"
  }
 },
 "nbformat": 4,
 "nbformat_minor": 5
}
