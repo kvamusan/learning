{
 "cells": [
  {
   "cell_type": "code",
   "execution_count": 1,
   "id": "85886d40",
   "metadata": {},
   "outputs": [],
   "source": [
    "from IPython.display import Markdown\n",
    "\n",
    "# Sample texts\n",
    "text1 = \"This is the first text.\"\n",
    "text2 = \"Here is another piece of text.\"\n",
    "text3 = \"And a third text for demonstration.\""
   ]
  },
  {
   "cell_type": "code",
   "execution_count": 14,
   "id": "9054a63a",
   "metadata": {},
   "outputs": [
    {
     "data": {
      "text/markdown": [
       "Text 1: This is the first text."
      ],
      "text/plain": [
       "<IPython.core.display.Markdown object>"
      ]
     },
     "execution_count": 14,
     "metadata": {},
     "output_type": "execute_result"
    }
   ],
   "source": [
    "Markdown(f\"Text 1: {text1}\")"
   ]
  },
  {
   "cell_type": "code",
   "execution_count": 17,
   "id": "5abc5697",
   "metadata": {},
   "outputs": [
    {
     "data": {
      "text/markdown": [
       "Text 2: Here is another piece of text."
      ],
      "text/plain": [
       "<IPython.core.display.Markdown object>"
      ]
     },
     "execution_count": 17,
     "metadata": {},
     "output_type": "execute_result"
    }
   ],
   "source": [
    "Markdown(f\"Text 2: {text2}\")"
   ]
  },
  {
   "cell_type": "code",
   "execution_count": 18,
   "id": "288f2d92",
   "metadata": {},
   "outputs": [
    {
     "data": {
      "text/markdown": [
       "Text 3: And a third text for demonstration."
      ],
      "text/plain": [
       "<IPython.core.display.Markdown object>"
      ]
     },
     "execution_count": 18,
     "metadata": {},
     "output_type": "execute_result"
    }
   ],
   "source": [
    "Markdown(f\"Text 3: {text3}\")"
   ]
  }
 ],
 "metadata": {
  "kernelspec": {
   "display_name": "Python 3 (ipykernel)",
   "language": "python",
   "name": "python3"
  },
  "language_info": {
   "codemirror_mode": {
    "name": "ipython",
    "version": 3
   },
   "file_extension": ".py",
   "mimetype": "text/x-python",
   "name": "python",
   "nbconvert_exporter": "python",
   "pygments_lexer": "ipython3",
   "version": "3.11.5"
  }
 },
 "nbformat": 4,
 "nbformat_minor": 5
}
