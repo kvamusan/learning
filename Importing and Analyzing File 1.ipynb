{
 "cells": [
  {
   "cell_type": "code",
   "execution_count": 14,
   "id": "b5bfde43",
   "metadata": {},
   "outputs": [],
   "source": [
    "import nltk\n",
    "from nltk.tokenize import word_tokenize\n",
    "from nltk import pos_tag"
   ]
  },
  {
   "cell_type": "code",
   "execution_count": 15,
   "id": "50f762ce",
   "metadata": {},
   "outputs": [
    {
     "name": "stderr",
     "output_type": "stream",
     "text": [
      "[nltk_data] Downloading package punkt to\n",
      "[nltk_data]     C:\\Users\\amusa\\AppData\\Roaming\\nltk_data...\n",
      "[nltk_data]   Package punkt is already up-to-date!\n",
      "[nltk_data] Downloading package averaged_perceptron_tagger to\n",
      "[nltk_data]     C:\\Users\\amusa\\AppData\\Roaming\\nltk_data...\n",
      "[nltk_data]   Package averaged_perceptron_tagger is already up-to-\n",
      "[nltk_data]       date!\n"
     ]
    },
    {
     "data": {
      "text/plain": [
       "True"
      ]
     },
     "execution_count": 15,
     "metadata": {},
     "output_type": "execute_result"
    }
   ],
   "source": [
    "nltk.download('punkt')\n",
    "nltk.download('averaged_perceptron_tagger')"
   ]
  },
  {
   "cell_type": "code",
   "execution_count": 16,
   "id": "6da395d3",
   "metadata": {},
   "outputs": [],
   "source": [
    "def identify_verbs(text):\n",
    "    tokens = word_tokenize(text)\n",
    "    tagged = pos_tag(tokens)\n",
    "    verbs = [word for word, pos in tagged if pos.startswith('VB')]\n",
    "    return verbs"
   ]
  },
  {
   "cell_type": "code",
   "execution_count": 18,
   "id": "db76e0eb",
   "metadata": {},
   "outputs": [],
   "source": [
    "with open(r'C:\\Users\\amusa\\bar.txt', 'r', encoding='utf-8') as file:\n",
    "    data = file.read().replace('\\n', '')\n",
    "    verbs = identify_verbs(data)"
   ]
  },
  {
   "cell_type": "code",
   "execution_count": 19,
   "id": "4fb9e404",
   "metadata": {},
   "outputs": [
    {
     "name": "stdout",
     "output_type": "stream",
     "text": [
      "['INTRODUCTION', 'saw', 'trying', 'escape', 'growing', 'protested', 'participating', 'considered', 'privilegedby', 'were', 'separated', 'sequestered', 'dictated', 'proffered', 's', 'grounded', 'was', 'populated', 'enlightened', 'opined', 'marked', 'advised', 'complained', 'prescribed', 'reflected', 'lapsed', 'following', 'was', 'prescribed', '’', 's', 'was', 'write', 'framed', 'comment', 'saw', 'womenliving', 'constructed', 'kept', 'storyreceived', 'were', 'felt', 'threatened', 'takes', 'is', 'forbids', 'write', 'engage', 'frustrated', 'denied', 'perceives', 'lining', 'decided', 'use', 'analyze', 'show', 'are', 'experienced', 'extrapolate', 'include', 'argue', 'imbues', 'carry', 'represented', 'impede', 'publicdomain', 'uses', 'add', 'meaning', 'extended', 'create', 'is', 'illuminate', 'portrayed', 'was', 'published', 'met', 'earned', 'wrote', 'is', 'told', 'holding', 'seems', 'bepermitted', 'printed', 'writing', 'edited', 'published', 'suffered', 'tending', 'melancholia—and', 'went', 'put', 'bed', 'applied', 'concluded', 'was', 'sent', '“', '“', 'have', 'touch', 'lived', 'went', 'obeyed', 'came', 'see', 'Following', 'underscored', 'met', 'lectured', 'Gilmanespoused', '’', 's', 'divorce', 'was', 's', 'fell', 'revived', 'decades', 's', 'storyreceived', 'wrote', 'has', 'been', 'reviewed', 'opposing', 'claiming', 'and/or', 'revealing', 'find', 'present', '“', 'transcends', 'illuminating', 'reviews', 'unappreciated', 'Returning', 'commenton', 's', 'noting', 's', '’', 'defined', 'reframe', 'emphasize', 'notes', 'whoare', 'included', 'leads', 'askwhat', 'find', 'cut', 'takes', 'written', 'are', 'denied', 'notessilencing', 'precipitates', 'seethemselves', 'imaged', 'contends', 'are', 'subsumed', 'is', 'argues', 'bear', 'losing', 'are', 'forced', 'deny', 'review', 'writing', 'reading', 'means', 'reflected', 'endure', 'reflects', 'argue', 'reframe', 'thatconnect', 's', 'confining', 'determines', 'read', 'has', 'led', 'pursued', 'offers', '”', 'cites', 'transmissionof', 'impact', 'is', 'received', 'interpreted', 'arguing', '”', 's', 'agrees', '“', 'gain', 'took', 'cites', 'reproduce', 'offers', 'follows', 'using', 'emphasized', 's', 'be', 'aided', 'exploring', 'offer', 'understanding', 'using', 'occurs', 'transposing', 'are', 'going', 'uses', 'illustrate', 'organized', '”', 'is', 'relied', 'suggests', 'indicate', 'do', 'occur', 'proceed', 'uses', 'connect', 'finds', 'constructing', 'result', 'enable', 'conceptualize', 'understand', 'Gavins', 'investigates', 'use', 'reconstructing', 'translate', 'drawing', 'Gavins', 'explains', 'construct', 'ofeveryday', 'using', '”', 'representing', 'internalized', 'allows', 'reexamine', 'andreevaluate', 'elicit', 'are', 'applied', 's', 'are', 'formed', '’', 'is', 'presented', 'propose', 'inwhich', 'be', 'are', 'are', 'are', 's', 'transitionsthe', 'acting', 'restrain', 'is', '’', 'supply', 'missing', 'be', 'defined', 'categorized', 'governing', 'propose', 'focus', 'represented', 'leading', 'are', 'leading', 'guide', 'adding', 'is', 'attempting', 'understand', 'resulting', 'comprehending', 'fleeing', 'incorporated', 'provides', 'authorizinghow', 'is', 'received', 'interpreted', 'constructing', 'obtain', 'are', 'used', 'writing', 'suggest', 'is', 'addressed', 'using', 'corresponding', 'argues', 'be', 'recognized', 'invite', 'engage', 'does', '“', 'conveys', 'emphasizing', 'means', 'mean', 'explains', 'asking', 'view', 'provide', 'contains', 'are', 'mapped', 'corresponding', 'argues', 'focusing', 'are', 'transferred', 'noting', 'are', 'associated', 'proposes', 'understand', 'adds', 'employ', 'noting', 'is', 'Kövecses', 'defined', 'mentioned', '“', 'come', 'differ', 'describing', 'are', 'addressing', 's', 'work', 'convey', 'smeaning', 'alluding', 'addressed', 'mentioned', 'notes', 'talk', 'are', 'talking', 'utter', 'mean', 'departs', 'means', 'are', 'talking', '”', 'posits', 'understanding', 'performed', '“', 'says', 'relying', 'shared', 'defines', 'performed', 'ofperforming', 'Jerrold', 'are', 'resting', 'is', 'done', 'is', 'said', 'is', 'intended', 'offering', 'based', 'shared', 'is', 'said', 's', 'integrate', 'provides', 'does', 'relating', 'explaining', 'is', '[', 'are', 'related', 'whichdo', 'save', 'mentioned', '”', 'proposes', 'compose', 'motivated', 'stored', 'organizes', 'characteristicsrecognized', 'notes', 'are', 'encompass', 'do', 'appear', 'be', 'indicates', 'ofunderstanding', 'introduced', 'explores', 'shared', 'Gavinsexplains', 'construct', 'enableus', 'conceptualize', 'understand', 'encounter', 'structured', 'containing', 'Gavins', 'provides', 'act', 'enable', '”', 'construct', 'enables', 'experience', 'explores', 'proposed', '“', 'has', 'been', 'positing', '”', 'describe', 'suggests', 'merge', 'bring', '”', 'condenses', 'experiences', 'resolves', 'metonymy', 'blending', 'blending', 'corresponding', 'residing', 'metaphor', 'metonymy', 'integrate', 'relates', 'encompassing', 'represented', 'using', 'refer', 'is', 'related', 'stands', 'related', 'are', 'conceives', 'construe', 'convene', 'form', 'has', 'described', 'proposes', 'described', 'expands', 'providerelationship', 'is', 'understanding', 'expand', 'extend', 'relating', 'need', '”', 'glove', 'stands', 'describes', 'forms', 'found', 's', 'uses', 'hands', 'hands', 'works', 'reverse', 'is', 'represented', '“', 'has', 'enacted', 'universityrepresents', 'remain', 'perspectivise', 'given', 'incorporating', '”', '“', '”', 'is', 'explored', 'whodiscuss', 'emphasize', 'are', 'are', 'complemented', '“', 'involved', 'frametheir', ']', 'shapenot', 'speak', 'conceptualize', 'experience', '“', 'be', 'considered', 'is', 'shared', 'thinking', 'enable', '“', 'see', 'make', '”', 'argues', 'come', 'being', 'is', ']', 'find', 'are', 'frame', 'argues', '”', 'focuses', 'operationsrequired', 'comprehend', '’', 'ofmind', 'focuses', 'tointegrate', 'circumvents', 'emphasize', 'cognitivist', 'comprehend', 'are', 'contribute', 'focus', 'defines', 'is', 'told', 'is', 'told', 'asserts', 'opens', 'endorses', 'called', 'suggest', 'recruit', '”', 'interacting', '”', 's', 's', 'bounded', 'writes', '“', 'are', 'bounded', '”', 'advocating', 'show', 's', 'yield', 'lies', 'encode', 'supported', 'is', 's', 'allows', 'tobe', 'determining', 'are', 'used', 'ofencoded', 'argued', 'limit', 'restrict', 'react', 'interpret', 'text.In', 'provides', 'distinguishing', 'be', 'filled', 'be', 'filled', 'are', 'cued', 'fill', 'cued', 'leave', 'predicates', 'posited', 'configure', 'is', 'reading', 'wrote', 'were', 'be', 'known', 'proposed', 'be', 'filled', 'alwaysremain', '”', 'argued', 'be', 'conceived', ']', 'willengage', '’', 'working', 'writing', 'opens', 'have', 'befilled', 'argues', 'ofentry', '“', 'leading', 'howgaps', 'play', 's', 'emphasize', 'leaving', 'are', 'stressing', '’', '“', '”', 'requiring', 'cites', 'knows', 'noted', 'reflects', 's', 'infermeaning', 'left', 'pertains', '”', 'presents', 'have', 'taken', 'is', 'found', 'confesses', 'does', 'know', 'suffer', 'is', 'suffer', 'satisfies', 'segues', 'is', 'imagined', 'bring', 'HWTposits', 'have', 'fill', 'themissing', 'put', 'propose', 'engage', 'wonder', 'mighthave', 'happened', 'ask', '“', 'had', 'been', 'argue', 'is', 'surrounded', 'present', 'investigate', 'posits', 'understanding', 'process', 'explains', 'receive', 'understand', 'using', 'decoding', 'inform', 'fixed', 'impacts', 'is', 'read', 'replicate', 'addresses', 'considers', 'be', 'remarking', 'construct', 'require', 'writing', 'justify', 'created', 'exceed', 'engaged', 'explains', '”', 'transformswriting', 'did', 'exist', '“', 'is', 'calls', 'determines', 'claims', 'satisfy', 'need', 'HWTserves', 'providing', 'constructing', 'inhered', 'created', 'be', 'pursued', 'is', 'explain', 'using', 'provide', 'have', 'happened', 'argues', 'require', 's', 'configure', 'employ', 'allows', 'establish', 'correlating', 'impose', 'construct', 'HWTremains', 'provide', 'reevaluate', '“', 'be', 'associated', 'be', 'imagined', 'presented', 'is', 'distinguish', 'is', 'distinguish', 'facilitate', 'noting', 'be', 'are', 'be', 'propose', 'are', 'enabled', 'evaluate', 'being', 'given', 'posits', 'limited', 'thetext', 'storyworlds', 'totalities', 'thatundergo', '”', 'enabling', 'frame', 'mentioned', 'implied', 'features', 'adding', 'discuss', 'is', 'distinguishing', 'implicit', 'reflecting', 'links', '“', 'reasoning', 'Echoing', 'cites', 'thought', 'notesthe', 'shared', 'bridging', 'build', 'concludes', 'shared', 'provide', 'analyzing', 'examines', 'allows', 'discusses', 'pertaining', '“', 'does', 'preclude', 'make', 'account', 'describing', 'argues', 'comprise', 'characterized', 's', 'resulting', 'has', 'developed', 'beginning', 'been', 'have', 'been', 'sparing', 'and/or', 'examine', 'apply', 'expose', 'brought', 'thisstudy', 'reveals', 'arising', 's', 's', 'predicate', '’', 'authorize', 'reviewed', 'have', 'reevaluated', '’', 'critique', 'merits', 'andwhere', 'are', 'located', 'interpretation.Annette', 'reiterates', '“', 'oppose', 'is', 'attended', 'is', 'reported', 'is', 'determined', 'is', 'filtered', 'adhering', 'writing', 'is', 'asserting', 'is', 'liberate', 'choose', 'endorses', 'supports', 'authored', 'began', 'according', 'taking', 'des', 'representing', 'wrote', 'published', 'took', 'inlegislating', 'is', 'fitting', 'apply', 's', 'withinsocialized', 'has', 'been', 'offeminist', 'appeared', 'followed', 'notes', 'was', 'widened', 'created', 'became', 'have', 'contributed', 'points', 'engendered', 'gave', 'propose', 'focus', 'guided', '”', 'achieving', 'quoted', 'follow', 'makes', 'addresses', '“', 'saw', 'tangled', 'were', 'sensitive', 'was', 'controlled', 'notes', 'endangered', 'examines', 'recognizing', 'being', 'Donavannotes', 's', 'remains', 'produced', 'presents', 'beginning', 'argues', 'began', '’', 'rooting', 'block', '’', 'writes', 'holds', 'are', 'tends', 'discriminate', 'argues', 'requires', 'be', 'are', 'disadvantaged', 'have', 'succeed', 'do', 'expressed', 'have', 'assumed', 'do', 'staying', 'Is', 'prove', 'is', 'is', 'is', 'held', 'be', 'does', 'fulfill', 'lingers', 'hinders', 'keeping', 'is', 'have', 'used', 'offers', 'writing', 'is', 'depicted', 'focusing', 'are', 'seen', '’', 's', 'takes', 'meaning', 'reviewed', 'revealing', 's', 'resonate', 'reject', 'have', 'noted', 'suggests', 'are', 'argues', 's', 'informs', 's', 'is', 'is', 'called', 'loses', 'caught', 'afflicts', 'reflect', 'held', 's', 'ofhysteria', 'be', 's', 'resulted', 'writing', 'ideas', '’', 'responded', 'pointing', 'underlying', 'incurred', 'restrained', 'is', 'compel', 'seek', 'threatens', 'send', 'is', 'represented', '“', 'found', 'irritating', 'mirroring', 'writing', 'was', 'conceived', 'be', 'held', 'be', 'had', 'be', 'corrected', 'treated', 'did', 'fulfill', 'threatened', 'revisits', '’', 'noting', 'believed', 'were', 'faking', 'get', 'has', 'drawn', 'provides', 'destroyed', 'leading', 'wrote', 'paralleled', 'received', 'proved', 'diagnosed', 'fictionreflects', 'styles', 'decidesto', 'dismiss', 'emerge', 'experiences', 's', 'aninstigating', 'restrained', 'supported', '’', 'impose', 'mimic', 'are', 'aided', 'disconcert', '’', 'is', 's', 'create', '”', 'brought', '’', 'are', 'assigned', 'represent', 'means', 'reveals', 'dormant', 's', 'use', 'expand', 'is', 'missing', 'obtain', 'fulfill', 'created', 'merging', 's', 'lined', 'is', 'confuse', 'following', 'pronounced', 'constantly', 'follow', 'commit', 'suicide—plunge', 'destroy', 'animated', 'assumes', 'become', 'stalks', 'assume', 'engage', '“', 'hovering', 'skulking', 'andhiding', 'is', 'tested', 'is', 'enmeshed', 'subjectify', 'emerging', 'fleeing', 'verifies', 'growing', 'writing', 'have', 'discovered', 'have', 'foundout', 'does', 'move—and', 's', 'inanimate', 'form', 'is', 'marked', 'calls', 'applies', 'toform', 'developed', 'writes', 'writes', 'emerging', 'describes', 'procure', 'assumes', 'aiding', 'creating', 'processing', 'rests', 'assign', 'meaning', 'using', 'accomplishes', 'assigning', 'purpose', 'becomes', 'mimethe', 'held', 'enclosure', 'adds', 'conceiving', 'writes', '“', 'is', 'makes', 'think', 'becomes', 'being', 'commands', 'womanforced', 'remain', 'commands', 'be', 'seen', 'looks', 'knew', 'had', 'saw', 'allowed', 'expands', 'have', 'been', 'rewrite', 'using', 'allows', 'imagine', 'are', 'contain', 'ofmeaning', 'bring', 'argues', 'depends', '”', 'propose', 'aninteresting', 'claiming', 'furthers', 'allows', 'assigns', 'needs', 'decide', 'sees', 'emerge', 'tocreep', 'happen', 'accompanies', 'allows', 'happen', 'is', 'describesthe', 'exits', '“', 'have', 'watched', 'creeping', 'creating', 'heightened', 'is', 'is', 'wanted', 'sleep', 'told', 'rest', 'was', 'wasn', 'was', 'moonlight', 'began', 'shake', 'got', 'ran', 'help', 'pulled', 'shook', 'shook', 'pulled', 'had', 'peeled', 'finds', 'peeling', 'release', 'stultifying', 'induced', 'allows', 'slip', 'escape', 'wrote', 'were', 'assessed', 'thatentitled', 'is', 'kept', 'is', 'follow', 'causing', 's', 'write', '“', 'is', 'stir', 's', 'reflects', 'were', 'restrained', 'hide', 'resulted', 'write', '“', 'have', 'been', 'using', 'renewing', 'treated', 'have', 'been', 'known', '”', 'was', 'was', 'writing', 'were', 'guided', 'reflecting', '.reinforcing', 'concerning', 's', 'portrays', 'has', 'cautioned', 'give', 'fancy', 'Hesays', 'lead', 'substantiates', ']', 'has', 'been', 'verges', 'seeks', 'merging', 'womenexiting', 'are', 'aggravated', 'aided', 'remains', 'imprisoned', 'held', 'is', '”', 'discredits', 'reduces', 'is', 'writes', '“', 'assures', 'relatives', 'is', 'slight', 'is', 'do', '”', 'locates', 'devastating', 'overwhelms', 'retreats', 'legitimates', 'is', 'writes', 'states', 'is', 'are', 'expressed', 'are', 'are', 'drawing', 'give', 'become', 'are', 'overt', 'is', 'is', 'termed', 'declares', '“', 'is', 'feel', 'said', 'said', 'felt', 'was', 'shut', 's', 'leads', 'shows', 't', 'go', 'walking', '’', 'said', '‘', 'be', 'pleases', 's', 'is', 'thanit', 'used', 'be', 'see', 'have', 'look', 'watch', 'do', 'eat', 'was', 'assigns', 'becomes', 'use', 'reviewed', 'reconfigures', 'established', 'authenticated', 'escape', 'isfractured', 'read', 'lens', 'itbecomes', 'is', 'considered', 'be', 'affect', 'does', 'exclude', 'be', 'used', 'review', 'assigned', 'hysteria', 'be', 'trusted', 'interpret', 'provide', 'occurs', 'is', 'suggest', 'is', 'affected', 'writes', 'have', 'watched', 'did', 'know', 'was', 'looking', 'come', '’', 'caught', 'looking', 'casts', 'is', 'becomes', 'sees', 'stopped', '“', 'is', 'cried', 's', 'are', 'doing', 'kept', 'creeping', 'looked', '’', 'got', 'said', '’', 'pulled', '’', 'have', 'fainted', 'did', 'had', 'creep', 'was', 'discussed', 'documented', 'leading', 'presented', 'was', 'built', 'sur', 'du', 'suffering', 'writing', 'were', 'restricted', 'was', 'extended', 'menwith', '“', 'were', 'ran', 'prevailing', 'andseemed', 'entail', 'revised', 'assume', 'recognized', 'whenshared', 'alleviate', 'associated', 'therebyremoving', 'requires', 'has', 'created', 'let', 'someonewith', 'experience', 'finds', 'places', 'relapsing', 'is', 'considers', 'argumentsimpacting', 'is', 'read', 's', 'approbated', 'ofthis', 'are', 'recognized', 'writes', '“', 'get', '’', 'used', 'think', 'is', 'says', 'feel', 'shallneglect', 'take', 'control', 'recognizes', 'providing', 'look', 's', 'drawfrom', 'enable', 'connect', 'enclose', 'rely', 'do', 'incline', 'perceiving', 'trapped', 'conforming', 'relies', 'andgrouping', 'recognized', 'represented', '”', 'be', 'recognized', 'identified', 'suggests', 'fails', 'perform', 'used', 'IS', 'taken', 'remains', 'given', 'are', 'allocated', 'shared', 'invests', 'living', 'writes', '“', 'looks', 'knew', 'had', 'isn', 'tfaded', 'is', 'see', 'expresses', 'be', 'formed', 'according', '’', 'is', 'perceived', 'restrains', 'becomes', 'contain', 'is', 'conceived', 'corresponding', 'used', 'is', 'is', 'retained', 'maps', 'uses', 'impress', 'byrestricting', 'becomes', 'holds', 'evolving', 'coinciding', 'writes', 'tried', 'have', 'tell', 'wish', 'let', 'go', 'visit', 'longing', 'expressed', 'get', 'is', 'rebuked', 'declines', 'allow', 'leave', 'is', 'represents', 'corresponding', 'map', 'hypothesized', 'represents', 'is', 'mimic', 's', 'allow', 'byrepresenting', 'have', 'relies', 'enclosed', 'separates', '’', 'corresponding', 'are', 'enclosed', 'restrained', 'controlled', 'represents', 'is', 'lies', 'is', 'written', 'support', 'derives', 'adheres', 'preclude', 'rematerialize', 'contends', 'is', 'represented', 'exert', 'demonstrating', 'is', 'Sanctioned', 'imbues', 'make', 'appears', 'describes', 'asks', '“', 'is', 'do', '”', 'hide', 'writing', '“', 'did', 'write', 'does', 'exhaust', 'be', 'is', 'evidenced', 'tomake', 'concerning', 'says', 'don', 'shallsend', 's', 'indicates', 'needed', 's', 'whoengages', 'controlling', 'is', 'represented', 'legislate', 'configured', 'configured', 'thatdemand', 's', 'be', 'serves', 'inform', '’', 'recognized', 'bemapped', '’', 'written', 'mapping', 'isembedded', 'extends', 'include', 'form', 'takes', 'relates', 'writes', '“', 'surprise', 'is', 'is', 'met', 'think', 'is', 'quoted', 'maps', 'odor', 'are', 'represents', 'offering', 'metaphor', 'using', 'explains', 'elaboration', 'expanding', 'supplying', 'is', 'commonlymapped', 'does', 'elaborates', '“', 'is', 'torn', 'sticketh', 'Theelaborated', 'sticking', 'sticking', 'sharing', 'exists', 'extends', 'exit', 'possesses', 'becomes', 'associates', 'referencing', 'represent', 'be', 'thought', 'implicate', 'images', 'imbues', 'linking', 's', 'represents', 'fighting', '’', 'fighting', 'restore', 'takes', 'shakes', 'otherwomen', 'trapped', 'including', 'represents', 'came', 'define', 'be', 'contextualized', 'written', '’', 'imbued', 'represents', 'has', 'assertherself', 'typecasting', 'be', 's', 'suggests', 'seek', 'find', 'aprison', 'contrives', 'imprinted', 'contextualizes', 'withinthe', 'suggests', 'becomes', 'andimagined', '’', 'repressed', 'demonstrates', '’', 'takes', 'aliving', 'haunt', 'styled', 'writing', 'extends', 'mentioned', 'invites', 'living', 'extended', 'suggest', 'representing', 'afford', 'rent', 'own', 'occurs', 'driven', 'insanity', 'supported', 'endures', 'acknowledged', 'locates', 'alsoexperienced', 'commands', 'written', 'typifies', 'lived', 'experienced', 'be', 'extended', 'representthe', 'had', 'placed', 'does', 'is', 'use', 'hypothesize', 'have', 'happened', 'fails', 'disclosethat', 'are', 'have', 'happened', 'remain', 'illustrates', 'ends', 'comes', 'put', 'thisaway—he', 'have', 'write', '”', 'fails', 'disclose', 'is', 'have', 'precipitated', 'begins', 'Wehave', 'been', 'haven', 'felt', 'writing', 'happened', 'is', 'left', 'is', 'written', 'becomes', 'has', 'occurred', 'is', 'left', 'writes', '“', 'ends', 'leaving', 'construct', 'is', 'has', 'occurred', 'leaving', 'fill', 'missing', 'introduces', 'alert', 'is', 'does', 'weigh', 'do', 'believe', 'is', 'do', 'little', 'am', 'is', 'is', 'declines', 'explain', 'is', 'happened', 'becomes', 'occurs', 'occurs', 'thatengulfs', 'has', 'been', 'relatesthe', 's', 'is', 'slips', 'exist', 'is', 'left', 'has', 'been', 'written', 'is', 'sees', 'trapped', 'make', 'confirm', 'requires', 'toresolve', 'occurs', '”', 'declares', 'wonder', 'came', 'did', 'am', 'fastened', 'has', 'occurred', 'been', 'left', 'andin', 'ensues', 'slips', 'fleeing', 'occurs', 'enters', 'has', 'securedherself', 'declares', '’', 'got', 'said', 'be', 'inferred', 'is', 'has', 'dissociated', 'merging', 'whoare', 'exiting', 'is', 'havebeen', 'assumed', 'opposed', 'escape', 'are', 'invited', 'construct', 'andapply', 'hypothesized', 'grounded', 'are', 'interesting', 'enhance', 'form', '’', 'abrogate', 'pose', 'are', 'driven', 'do', 'reflects', '[', 'anysupposed', 'are', 'interesting', 'argue', 'be', 'known', 'told', 'fulfill', 'make', 'satisfy', 'SUMMARY', 'used', 'follows', 'confirmed', 'contains', 'abbreviated', 'structures', 'is', 'creating', 'Bernaerts', 'supplement', 'is', 'left', 'ending', 'set', 'emulating', 'is', 'left', 'infer', 'appear', 'validate', 'given', 'was', 'committed', 'defending', 'underwent', 'supplies', 'substantiating', 'achieves', 'insert', 'gapsinto', 'allow/insist', 'understanding', 'are', 'composed', 's', 'are', 'create', 'are', 'invited', 'fashioning', 'filling', 'has', 'been', 'written', 'byimagining', 'have', 'happened', 'mark', 'disrupt', 'finds']\n"
     ]
    }
   ],
   "source": [
    "print(verbs)"
   ]
  },
  {
   "cell_type": "code",
   "execution_count": null,
   "id": "09834128",
   "metadata": {},
   "outputs": [],
   "source": []
  }
 ],
 "metadata": {
  "kernelspec": {
   "display_name": "Python 3 (ipykernel)",
   "language": "python",
   "name": "python3"
  },
  "language_info": {
   "codemirror_mode": {
    "name": "ipython",
    "version": 3
   },
   "file_extension": ".py",
   "mimetype": "text/x-python",
   "name": "python",
   "nbconvert_exporter": "python",
   "pygments_lexer": "ipython3",
   "version": "3.11.5"
  }
 },
 "nbformat": 4,
 "nbformat_minor": 5
}
