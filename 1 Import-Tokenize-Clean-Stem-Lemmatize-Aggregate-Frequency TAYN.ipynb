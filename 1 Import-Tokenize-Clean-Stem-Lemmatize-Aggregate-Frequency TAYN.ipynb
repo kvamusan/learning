{
 "cells": [
  {
   "cell_type": "code",
   "execution_count": 2,
   "id": "7cca2dfb",
   "metadata": {},
   "outputs": [],
   "source": [
    "#IMPORTS\n",
    "import pandas as pd\n",
    "# import nltk\n",
    "from nltk.tokenize import word_tokenize\n",
    "\n",
    "# Download NLTK resources if not already downloaded\n",
    "# nltk.download('punkt')"
   ]
  },
  {
   "cell_type": "code",
   "execution_count": 5,
   "id": "234bc55a",
   "metadata": {},
   "outputs": [
    {
     "name": "stdout",
     "output_type": "stream",
     "text": [
      "﻿THE THING AROUND YOUR NECK\n",
      "You thought everybody in America had a car and a gun; your uncles and aunts and cousins thought so, too. Right after you won the American visa lottery, they told you: In a \n"
     ]
    }
   ],
   "source": [
    "# Load the data\n",
    "file_path = 'C:\\\\Users\\\\amusa\\\\code\\\\learning\\\\TAYN.txt'\n",
    "with open(file_path, 'r', encoding='utf-8') as file:\n",
    "    text_content = file.read()\n",
    "    \n",
    "# Check that things got loaded\n",
    "print(text_content[0:200])"
   ]
  },
  {
   "cell_type": "code",
   "execution_count": 6,
   "id": "d4a1dd9e",
   "metadata": {},
   "outputs": [
    {
     "name": "stdout",
     "output_type": "stream",
     "text": [
      "['\\ufeffTHE', 'THING', 'AROUND', 'YOUR', 'NECK', 'You', 'thought', 'everybody', 'in', 'America', 'had', 'a', 'car', 'and', 'a', 'gun', ';', 'your', 'uncles', 'and', 'aunts', 'and', 'cousins', 'thought', 'so', ',', 'too', '.', 'Right', 'after', 'you', 'won', 'the', 'American', 'visa', 'lottery', ',', 'they', 'told', 'you', ':', 'In', 'a', 'month', ',', 'you', 'will', 'have', 'a', 'big', 'car', '.', 'Soon', ',', 'a', 'big', 'house', '.', 'But', 'don', '’', 't', 'buy', 'a', 'gun', 'like', 'those', 'Americans', '.', 'They', 'trooped', 'into', 'the', 'room', 'in', 'Lagos', 'where', 'you', 'lived', 'with', 'your', 'father', 'and', 'mother', 'and', 'three', 'siblings', ',', 'leaning', 'against', 'the', 'unpainted', 'walls', 'because', 'there', 'weren', '’', 't', 'enough', 'chairs']\n"
     ]
    }
   ],
   "source": [
    "# Tokenize the text using NLTK\n",
    "tokens = word_tokenize(text_content)\n",
    "\n",
    "# Print the tokens\n",
    "print(tokens[0:100])"
   ]
  },
  {
   "cell_type": "code",
   "execution_count": 7,
   "id": "2e768675",
   "metadata": {},
   "outputs": [
    {
     "data": {
      "text/plain": [
       "'tho'"
      ]
     },
     "execution_count": 7,
     "metadata": {},
     "output_type": "execute_result"
    }
   ],
   "source": [
    "tokens[6][0:3]"
   ]
  },
  {
   "cell_type": "code",
   "execution_count": null,
   "id": "5657297e",
   "metadata": {},
   "outputs": [],
   "source": [
    "#CLEANING OF DATA\n",
    "\n",
    "import nltk\n",
    "from nltk.corpus import stopwords, words\n",
    "from nltk.tokenize import word_tokenize\n",
    "import string\n",
    "\n",
    "# Tokenize the text using NLTK\n",
    "tokens = word_tokenize(text_content)\n",
    "\n",
    "# Remove punctuations and convert to lowercase\n",
    "cleaned_tokens = [word.lower() for word in tokens if word.isalpha()]\n",
    "\n",
    "# Remove non-English words\n",
    "english_words = set(words.words())\n",
    "filtered_tokens = [word for word in cleaned_tokens if word in english_words]\n",
    "\n",
    "# Remove stopwords\n",
    "stop_words = set(stopwords.words('english'))\n",
    "filtered_tokens = [word for word in filtered_tokens if word not in stop_words]\n",
    "\n",
    "# Print the cleaned tokens\n",
    "print(filtered_tokens)\n"
   ]
  },
  {
   "cell_type": "code",
   "execution_count": null,
   "id": "3e0e9476",
   "metadata": {},
   "outputs": [],
   "source": [
    "#CLEAN COMMAS, COLONS AND SEMI COLONS\n",
    "import nltk\n",
    "from nltk.tokenize import word_tokenize\n",
    "from nltk.corpus import stopwords\n",
    "from nltk.stem import PorterStemmer\n",
    "import string\n",
    "\n",
    "# Remove commas, colons and semicolons\n",
    "text_content = text_content.replace(',', '').replace(';', '').replace(':', '')\n",
    "\n",
    "# Tokenize the text using NLTK\n",
    "tokens = word_tokenize(text_content)\n",
    "\n",
    "# Remove punctuation, convert to lowercase, and remove stopwords\n",
    "cleaned_tokens = [word.lower() for word in tokens if word.isalpha() and word not in stopwords.words('english')]\n",
    "\n",
    "# Print the cleaned tokens\n",
    "print(cleaned_tokens)\n"
   ]
  },
  {
   "cell_type": "code",
   "execution_count": null,
   "id": "5248b673",
   "metadata": {},
   "outputs": [],
   "source": [
    "#STEMMING AND LEMMATIZATION\n",
    "import nltk\n",
    "from nltk.tokenize import word_tokenize\n",
    "from nltk.stem import PorterStemmer, WordNetLemmatizer\n",
    "\n",
    "# Tokenize the text using NLTK\n",
    "tokens = word_tokenize(text_content)\n",
    "\n",
    "# Stemming\n",
    "porter_stemmer = PorterStemmer()\n",
    "stemmed_tokens = [porter_stemmer.stem(word) for word in tokens]\n",
    "\n",
    "# Lemmatization\n",
    "wordnet_lemmatizer = WordNetLemmatizer()\n",
    "lemmatized_tokens = [wordnet_lemmatizer.lemmatize(word) for word in tokens]\n",
    "\n",
    "# Print the stemmed and lemmatized tokens\n",
    "print(\"Stemmed Tokens:\", stemmed_tokens)\n",
    "print(\"Lemmatized Tokens:\", lemmatized_tokens)\n"
   ]
  },
  {
   "cell_type": "code",
   "execution_count": null,
   "id": "93aac594",
   "metadata": {},
   "outputs": [],
   "source": [
    "#TOTAL AGGREGATE OF TOKENS\n",
    "# Tokenize the text using NLTK\n",
    "tokens = word_tokenize(text_content)\n",
    "\n",
    "# Compute word frequencies\n",
    "word_frequencies = Counter(tokens)\n",
    "\n",
    "# Print total number of words\n",
    "total_words = sum(word_frequencies.values())\n",
    "print(f\"Total Number of Words: {total_words}\")"
   ]
  },
  {
   "cell_type": "code",
   "execution_count": null,
   "id": "c085c4a0",
   "metadata": {},
   "outputs": [],
   "source": [
    "#FREQUENCY\n",
    "# Tokenize the text using NLTK\n",
    "tokens = word_tokenize(text_content)\n",
    "\n",
    "# Compute word frequencies\n",
    "word_frequencies = Counter(tokens)\n",
    "\n",
    "# Print all words and their frequencies\n",
    "for word, frequency in word_frequencies.items():\n",
    "    print(f\"{word}: {frequency}\")\n"
   ]
  },
  {
   "cell_type": "code",
   "execution_count": null,
   "id": "d153d779",
   "metadata": {},
   "outputs": [],
   "source": [
    "#HIGHEST FREQUENCY\n",
    "# Compute word frequencies\n",
    "word_frequencies = Counter(tokens)\n",
    "\n",
    "# Find the word with the highest frequency\n",
    "most_common_word, highest_frequency = word_frequencies.most_common(1)[0]\n",
    "\n",
    "# Print the word with the highest frequency\n",
    "print(f\"The word with the highest frequency is '{most_common_word}' with a frequency of {highest_frequency}\")"
   ]
  },
  {
   "cell_type": "code",
   "execution_count": null,
   "id": "c0c4a20a",
   "metadata": {},
   "outputs": [],
   "source": []
  }
 ],
 "metadata": {
  "kernelspec": {
   "display_name": "Python 3 (ipykernel)",
   "language": "python",
   "name": "python3"
  },
  "language_info": {
   "codemirror_mode": {
    "name": "ipython",
    "version": 3
   },
   "file_extension": ".py",
   "mimetype": "text/x-python",
   "name": "python",
   "nbconvert_exporter": "python",
   "pygments_lexer": "ipython3",
   "version": "3.11.5"
  }
 },
 "nbformat": 4,
 "nbformat_minor": 5
}
